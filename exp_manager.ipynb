{
 "cells": [
  {
   "cell_type": "code",
   "execution_count": 1,
   "metadata": {},
   "outputs": [],
   "source": [
    "import json\n",
    "import os\n",
    "import copy\n",
    "import astroddpm"
   ]
  },
  {
   "cell_type": "code",
   "execution_count": 2,
   "metadata": {},
   "outputs": [
    {
     "data": {
      "text/plain": [
       "'/mnt/home/dheurtel/astroddpm/astroddpm/config'"
      ]
     },
     "execution_count": 2,
     "metadata": {},
     "output_type": "execute_result"
    }
   ],
   "source": [
    "CONFIG_FOLDER = os.path.join(os.path.dirname(astroddpm.__file__),'config')\n",
    "CONFIG_FOLDER"
   ]
  },
  {
   "cell_type": "code",
   "execution_count": 5,
   "metadata": {},
   "outputs": [
    {
     "name": "stdout",
     "output_type": "stream",
     "text": [
      "dict_keys(['DiscreteSBM_ND_SigmaVPSDE_MHD_BPROJ_N_4000_bottleneck_32', 'DiscreteSBM_ND_SigmaVPSDE_MHD_BPROJ_N_1000_bottleneck_16', 'DiscreteSBM_ND_SigmaVPSDE_MHD_BPROJ_N_4000_bottleneck_16', 'DiscreteSBM_ND_VPSDE_MHD_BPROJ_N_1000_bottleneck_32', 'DiscreteSBM_ND_VPSDE_MHD_BPROJ_N_1000_bottleneck_16', 'DiscreteSBM_ND_SigmaVPSDE_MHD_BPROJ_N_8000_bottleneck_16', 'DiscreteSBM_ND_VPSDE_MHD_BPROJ_N_4000_bottleneck_32', 'DiscreteSBM_ND_SigmaVPSDE_MHD_BPROJ_N_8000_bottleneck_32', 'DiscreteSBM_ND_VPSDE_MHD_BPROJ_N_4000_bottleneck_16', 'DiscreteSBM_ND_VPSDE_MHD_BPROJ_N_8000_bottleneck_32', 'DiscreteSBM_ND_VPSDE_MHD_BPROJ_N_8000_bottleneck_16', 'DiscreteSBM_ND_SigmaVPSDE_MHD_BPROJ_N_1000_bottleneck_32', 'DiscreteSBM_ND_SigmaVPSDE_MHD_BPROJ_N_4000_bottleneck_32_betamin_0.01_step', 'DiscreteSBM_ND_SigmaVPSDE_MHD_BPROJ_N_4000_bottleneck_32_betamin_0.05_invsqrt', 'DiscreteSBM_ND_SigmaVPSDE_MHD_BPROJ_N_1000_bottleneck_16_betamin_0.05_step', 'DiscreteSBM_ND_SigmaVPSDE_MHD_BPROJ_N_4000_bottleneck_32_betamin_0.01_invsqrt', 'DiscreteSBM_ND_SigmaVPSDE_MHD_BPROJ_N_1000_bottleneck_32_betamin_0.05_invsqrt', 'DiscreteSBM_ND_SigmaVPSDE_MHD_BPROJ_N_1000_bottleneck_32_betamin_0.01_step', 'DiscreteSBM_ND_SigmaVPSDE_MHD_BPROJ_N_1000_bottleneck_16_betamin_0.05_invsqrt', 'DiscreteSBM_ND_SigmaVPSDE_MHD_BPROJ_N_1000_bottleneck_16_betamin_0.01_step', 'DiscreteSBM_ND_SigmaVPSDE_MHD_BPROJ_N_1000_bottleneck_16_betamin_0.01_invsqrt', 'DiscreteSBM_ND_SigmaVPSDE_MHD_BPROJ_N_1000_bottleneck_32_betamin_0.01_invsqrt', 'DiscreteSBM_MultiSigmaVPSDE_MHD_BPROJ_N_1000_bottleneck_16_firstc_20', 'DiscreteSBM_MultiSigmaVPSDE_MHD_BPROJ_N_1000_bottleneck_32_firstc_6_invsqrt', 'DiscreteSBM_MultiSigmaVPSDE_MHD_BPROJ_N_1000_bottleneck_32_firstc_10_invsqrt', 'DiscreteSBM_MultiSigmaVPSDE_MHD_BPROJ_N_1000_bottleneck_32_firstc_20_invsqrt', 'DiscreteSBM_MultiSigmaVPSDE_MHD_BPROJ_N_1000_bottleneck_32_firstc_6_step', 'DiscreteSBM_MultiSigmaVPSDE_MHD_BPROJ_N_1000_bottleneck_32_firstc_10_step', 'DiscreteSBM_MultiSigmaVPSDE_MHD_BPROJ_N_1000_bottleneck_32_firstc_20_step', 'DiscreteSBM_MultiSigmaVPSDE_MHD_BPROJ_N_1000_bottleneck_16_firstc_6_invsqrt', 'DiscreteSBM_MultiSigmaVPSDE_MHD_BPROJ_N_1000_bottleneck_16_firstc_6_step', 'DiscreteSBM_MultiSigmaVPSDE_MHD_BPROJ_N_1000_bottleneck_16_firstc_20_invsqrt', 'DiscreteSBM_MultiSigmaVPSDE_MHD_BPROJ_N_1000_bottleneck_16_firstc_10_step', 'DiscreteSBM_MultiSigmaVPSDE_MHD_BPROJ_N_1000_bottleneck_16_firstc_10_invsqrt', 'DiscreteSBM_MultiSigmaVPSDE_MHD_BPROJ_N_1000_bottleneck_16_firstc_20_step', 'DiscreteSBM_MultiSigmaVPSDE_I_BPROJ_N_1000_bottleneck_32_firstc_6', 'DiscreteSBM_MultiSigmaVPSDE_I_BPROJ_N_1000_bottleneck_32_firstc_20', 'DiscreteSBM_MultiSigmaVPSDE_I_BPROJ_N_1000_bottleneck_16_firstc_10', 'DiscreteSBM_MultiSigmaVPSDE_I_BPROJ_N_1000_bottleneck_16_firstc_20', 'DiscreteSBM_MultiSigmaVPSDE_I_BPROJ_N_1000_bottleneck_16_firstc_6', 'DiscreteSBM_MultiSigmaVPSDE_I_BPROJ_N_1000_bottleneck_32_firstc_10'])\n"
     ]
    }
   ],
   "source": [
    "ALL_MODELS = os.path.join(CONFIG_FOLDER,'MODELS.json')\n",
    "with open(ALL_MODELS) as f:\n",
    "    ALL_MODELS_DICT = json.load(f)\n",
    "print(ALL_MODELS_DICT.keys())"
   ]
  },
  {
   "cell_type": "code",
   "execution_count": 6,
   "metadata": {},
   "outputs": [
    {
     "data": {
      "text/plain": [
       "{'diffusion_model': {'sde': {'type': 'DiscreteVPSDE',\n",
       "   'beta_min': 0.1,\n",
       "   'beta_max': 20.0,\n",
       "   'N': 1000},\n",
       "  'network': {'in_c': 1,\n",
       "   'out_c': 1,\n",
       "   'first_c': 20,\n",
       "   'sizes': [256, 128, 64, 32],\n",
       "   'num_blocks': 1,\n",
       "   'n_steps': 1000,\n",
       "   'time_emb_dim': 100,\n",
       "   'dropout': 0,\n",
       "   'attention': [],\n",
       "   'normalisation': 'GN',\n",
       "   'padding_mode': 'circular',\n",
       "   'eps_norm': 1e-05,\n",
       "   'skiprescale': True,\n",
       "   'type': 'ResUNet',\n",
       "   'discretization': 'discrete',\n",
       "   'embedding_mode': None},\n",
       "  'type': 'DiscreteSBM',\n",
       "  'ps': {'type': 'cmb_h_ombh2'}},\n",
       " 'dataloaders': {'train_batch_size': 64,\n",
       "  'test_batch_size': 128,\n",
       "  'num_workers': 8,\n",
       "  'seed': 33,\n",
       "  'split': 0.1,\n",
       "  'dataset': {'dir': '/mnt/home/dheurtel/ceph/01_data/CATS_MHD_BPROJ_DENSITY/',\n",
       "   'type': 'npy files',\n",
       "   'transforms': ['Random_Rotate90'],\n",
       "   'name': 'CATS_MHD_BPROJ_DENSITY'},\n",
       "  'name': 'CATS_MHD_BPROJ_DENSITY'},\n",
       " 'optimizer': {'type': 'AdamW', 'lr': 0.001, 'weight_decay': 0.0001},\n",
       " 'scheduler': {'type': 'invsqrt',\n",
       "  'warmup': 100,\n",
       "  'maxlr': 0.0004,\n",
       "  'minlr': 4e-05,\n",
       "  'last_step': -1},\n",
       " 'ckpt_epoch': 200,\n",
       " 'separate_ckpt': False,\n",
       " 'ckpt_dir': '/mnt/home/dheurtel/ceph/02_checkpoints',\n",
       " 'sample_epoch': 200,\n",
       " 'sample_dir': '/mnt/home/dheurtel/ceph/03_samples',\n",
       " 'sample_size': 8,\n",
       " 'results_size': 64,\n",
       " 'epochs': 12000,\n",
       " 'model_id': 'DiscreteSBM_MultiSigmaVPSDE_MHD_BPROJ_N_1000_bottleneck_32_firstc_20_invsqrt'}"
      ]
     },
     "execution_count": 6,
     "metadata": {},
     "output_type": "execute_result"
    }
   ],
   "source": [
    "config_init = ALL_MODELS_DICT['DiscreteSBM_MultiSigmaVPSDE_MHD_BPROJ_N_1000_bottleneck_32_firstc_20_invsqrt']\n",
    "\n",
    "config_init"
   ]
  },
  {
   "cell_type": "markdown",
   "metadata": {},
   "source": [
    "EXP1 is false as is"
   ]
  },
  {
   "attachments": {},
   "cell_type": "markdown",
   "metadata": {},
   "source": [
    "## EXP1"
   ]
  },
  {
   "cell_type": "code",
   "execution_count": 20,
   "metadata": {},
   "outputs": [],
   "source": [
    "sizes_list = [[256, 128, 64, 32], [256, 128, 64, 32, 16,], [256, 128, 64, 32, 16, 8,]]\n",
    "N_list = [1000, 4000, 8000]\n",
    "sde_list = ['DiscreteVPSDE', 'DiscreteSigmaVPSDE']"
   ]
  },
  {
   "cell_type": "code",
   "execution_count": 21,
   "metadata": {},
   "outputs": [],
   "source": [
    "power_spectrum_name = 'cmb_256_8arcmippixel'"
   ]
  },
  {
   "cell_type": "code",
   "execution_count": 22,
   "metadata": {},
   "outputs": [],
   "source": [
    "all_configs = {}\n",
    "for sde in sde_list:\n",
    "    for n in N_list:\n",
    "        for sizes in sizes_list:\n",
    "            config = copy.deepcopy(config_init)\n",
    "            config['diffusion_model']['sde']['type'] = sde\n",
    "            config['diffusion_model']['sde']['N'] = n\n",
    "            config['diffusion_model']['network']['n_steps'] = n\n",
    "            if sde == 'DiscreteSigmaVPSDE':\n",
    "                config['diffusion_model']['sde']['power_spectrum_name'] = power_spectrum_name\n",
    "            config['diffusion_model']['network']['sizes'] = sizes\n",
    "            if sde == 'DiscreteVPSDE':\n",
    "                config['model_id'] = 'DiscreteSBM_VPSDE_MHD_BPROJ_N_{}_bottleneck_{}'.format(n,sizes[-1])\n",
    "            else:\n",
    "                config['model_id'] = 'DiscreteSBM_SigmaVPSDE_MHD_BPROJ_N_{}_bottleneck_{}'.format(n,sizes[-1])\n",
    "            all_configs[config['model_id']] = config\n",
    "            "
   ]
  },
  {
   "cell_type": "code",
   "execution_count": 23,
   "metadata": {},
   "outputs": [],
   "source": [
    "with open(os.path.join(CONFIG_FOLDER,'exp1','config.json'), 'w') as f:\n",
    "    json.dump(all_configs, f, indent=4)"
   ]
  },
  {
   "cell_type": "code",
   "execution_count": 24,
   "metadata": {},
   "outputs": [
    {
     "name": "stdout",
     "output_type": "stream",
     "text": [
      "DiscreteSBM_VPSDE_MHD_BPROJ_N_1000_bottleneck_32 1000 DiscreteVPSDE 1000 32\n",
      "DiscreteSBM_VPSDE_MHD_BPROJ_N_1000_bottleneck_16 1000 DiscreteVPSDE 1000 16\n",
      "DiscreteSBM_VPSDE_MHD_BPROJ_N_1000_bottleneck_8 1000 DiscreteVPSDE 1000 8\n",
      "DiscreteSBM_VPSDE_MHD_BPROJ_N_4000_bottleneck_32 4000 DiscreteVPSDE 4000 32\n",
      "DiscreteSBM_VPSDE_MHD_BPROJ_N_4000_bottleneck_16 4000 DiscreteVPSDE 4000 16\n",
      "DiscreteSBM_VPSDE_MHD_BPROJ_N_4000_bottleneck_8 4000 DiscreteVPSDE 4000 8\n",
      "DiscreteSBM_VPSDE_MHD_BPROJ_N_8000_bottleneck_32 8000 DiscreteVPSDE 8000 32\n",
      "DiscreteSBM_VPSDE_MHD_BPROJ_N_8000_bottleneck_16 8000 DiscreteVPSDE 8000 16\n",
      "DiscreteSBM_VPSDE_MHD_BPROJ_N_8000_bottleneck_8 8000 DiscreteVPSDE 8000 8\n",
      "DiscreteSBM_SigmaVPSDE_MHD_BPROJ_N_1000_bottleneck_32 1000 DiscreteSigmaVPSDE 1000 32\n",
      "DiscreteSBM_SigmaVPSDE_MHD_BPROJ_N_1000_bottleneck_16 1000 DiscreteSigmaVPSDE 1000 16\n",
      "DiscreteSBM_SigmaVPSDE_MHD_BPROJ_N_1000_bottleneck_8 1000 DiscreteSigmaVPSDE 1000 8\n",
      "DiscreteSBM_SigmaVPSDE_MHD_BPROJ_N_4000_bottleneck_32 4000 DiscreteSigmaVPSDE 4000 32\n",
      "DiscreteSBM_SigmaVPSDE_MHD_BPROJ_N_4000_bottleneck_16 4000 DiscreteSigmaVPSDE 4000 16\n",
      "DiscreteSBM_SigmaVPSDE_MHD_BPROJ_N_4000_bottleneck_8 4000 DiscreteSigmaVPSDE 4000 8\n",
      "DiscreteSBM_SigmaVPSDE_MHD_BPROJ_N_8000_bottleneck_32 8000 DiscreteSigmaVPSDE 8000 32\n",
      "DiscreteSBM_SigmaVPSDE_MHD_BPROJ_N_8000_bottleneck_16 8000 DiscreteSigmaVPSDE 8000 16\n",
      "DiscreteSBM_SigmaVPSDE_MHD_BPROJ_N_8000_bottleneck_8 8000 DiscreteSigmaVPSDE 8000 8\n"
     ]
    }
   ],
   "source": [
    "for key in all_configs.keys():\n",
    "    print(key, all_configs[key]['diffusion_model']['sde']['N'], all_configs[key]['diffusion_model']['sde']['type'], all_configs[key]['diffusion_model']['network']['n_steps'], all_configs[key]['diffusion_model']['network']['sizes'][-1])"
   ]
  },
  {
   "cell_type": "code",
   "execution_count": 19,
   "metadata": {},
   "outputs": [],
   "source": [
    "## Adding the content of config.json to MODELS.json because I forgot to do it before\n",
    "with open(os.path.join(CONFIG_FOLDER,'exp1','config.json')) as f:\n",
    "    all_configs = json.load(f)\n",
    "\n",
    "with open(ALL_MODELS) as f:\n",
    "    ALL_MODELS_DICT = json.load(f)\n",
    "\n",
    "ALL_MODELS_DICT.update(all_configs)\n",
    "\n",
    "with open(ALL_MODELS, 'w') as f:\n",
    "    json.dump(ALL_MODELS_DICT, f, indent=4)"
   ]
  },
  {
   "attachments": {},
   "cell_type": "markdown",
   "metadata": {},
   "source": [
    "### Summary:"
   ]
  },
  {
   "cell_type": "code",
   "execution_count": null,
   "metadata": {},
   "outputs": [],
   "source": [
    "## Adding the content of config.json to MODELS.json because I forgot to do it before\n",
    "with open(os.path.join(CONFIG_FOLDER,'exp1','config.json')) as f:\n",
    "    all_configs = json.load(f)\n",
    "\n",
    "with open(ALL_MODELS) as f:\n",
    "    ALL_MODELS_DICT = json.load(f)\n",
    "\n",
    "ALL_MODELS_DICT.update(all_configs)\n",
    "\n",
    "with open(ALL_MODELS, 'w') as f:\n",
    "    json.dump(ALL_MODELS_DICT, f, indent=4)"
   ]
  },
  {
   "attachments": {},
   "cell_type": "markdown",
   "metadata": {},
   "source": [
    "## EXP2"
   ]
  },
  {
   "cell_type": "code",
   "execution_count": 16,
   "metadata": {},
   "outputs": [],
   "source": [
    "sizes_list = [[256, 128, 64, 32], [256, 128, 64, 32, 16,]]\n",
    "N_list = [1000, 4000]\n",
    "sde_list = ['DiscreteSigmaVPSDE']\n",
    "first_c_list = [4, 6, 10]"
   ]
  },
  {
   "cell_type": "code",
   "execution_count": 17,
   "metadata": {},
   "outputs": [],
   "source": [
    "power_spectrum_name = 'cmb_256_8arcmippixel'"
   ]
  },
  {
   "cell_type": "code",
   "execution_count": 18,
   "metadata": {},
   "outputs": [],
   "source": [
    "all_configs = {}\n",
    "for sde in sde_list:\n",
    "    for n in N_list:\n",
    "        for sizes in sizes_list:\n",
    "            for first_c in first_c_list:\n",
    "                config = copy.deepcopy(config_init)\n",
    "                config['diffusion_model']['sde']['type'] = sde\n",
    "                config['diffusion_model']['sde']['N'] = n\n",
    "                config['diffusion_model']['network']['n_steps'] = n\n",
    "                config['diffusion_model']['network']['first_c'] = first_c\n",
    "                config['diffusion_model']['sde']['power_spectrum_name'] = power_spectrum_name\n",
    "                config['diffusion_model']['network']['sizes'] = sizes\n",
    "                config['epochs'] = 20000\n",
    "                config['model_id'] = 'DiscreteSBM_SigmaVPSDE_MHD_BPROJ_N_{}_bottleneck_{}_firstc_{}'.format(n,sizes[-1], first_c)\n",
    "                all_configs[config['model_id']] = config"
   ]
  },
  {
   "cell_type": "code",
   "execution_count": 21,
   "metadata": {},
   "outputs": [],
   "source": [
    "with open(os.path.join(CONFIG_FOLDER,'exp2','config.json'), 'w') as f:\n",
    "    json.dump(all_configs, f, indent=4)"
   ]
  },
  {
   "cell_type": "code",
   "execution_count": 22,
   "metadata": {},
   "outputs": [
    {
     "name": "stdout",
     "output_type": "stream",
     "text": [
      "DiscreteSBM_SigmaVPSDE_MHD_BPROJ_N_1000_bottleneck_32_firstc_4\n",
      "DiscreteSBM_SigmaVPSDE_MHD_BPROJ_N_1000_bottleneck_32_firstc_6\n",
      "DiscreteSBM_SigmaVPSDE_MHD_BPROJ_N_1000_bottleneck_32_firstc_10\n",
      "DiscreteSBM_SigmaVPSDE_MHD_BPROJ_N_1000_bottleneck_16_firstc_4\n",
      "DiscreteSBM_SigmaVPSDE_MHD_BPROJ_N_1000_bottleneck_16_firstc_6\n",
      "DiscreteSBM_SigmaVPSDE_MHD_BPROJ_N_1000_bottleneck_16_firstc_10\n",
      "DiscreteSBM_SigmaVPSDE_MHD_BPROJ_N_4000_bottleneck_32_firstc_4\n",
      "DiscreteSBM_SigmaVPSDE_MHD_BPROJ_N_4000_bottleneck_32_firstc_6\n",
      "DiscreteSBM_SigmaVPSDE_MHD_BPROJ_N_4000_bottleneck_32_firstc_10\n",
      "DiscreteSBM_SigmaVPSDE_MHD_BPROJ_N_4000_bottleneck_16_firstc_4\n",
      "DiscreteSBM_SigmaVPSDE_MHD_BPROJ_N_4000_bottleneck_16_firstc_6\n",
      "DiscreteSBM_SigmaVPSDE_MHD_BPROJ_N_4000_bottleneck_16_firstc_10\n"
     ]
    }
   ],
   "source": [
    "for key in all_configs.keys():\n",
    "    print(key)"
   ]
  },
  {
   "attachments": {},
   "cell_type": "markdown",
   "metadata": {},
   "source": [
    "## EXP3 NON DDPM MATH Training"
   ]
  },
  {
   "cell_type": "code",
   "execution_count": 4,
   "metadata": {},
   "outputs": [],
   "source": [
    "sizes_list = [[256, 128, 64, 32], [256, 128, 64, 32, 16,]]\n",
    "N_list = [1000, 4000, 8000]\n",
    "sde_list = ['DiscreteSigmaVPSDE', 'DiscreteVPSDE']\n",
    "power_spectrum_name = 'cmb_256_8arcmippixel'"
   ]
  },
  {
   "cell_type": "code",
   "execution_count": 7,
   "metadata": {},
   "outputs": [],
   "source": [
    "all_configs = {}\n",
    "for sde in sde_list:\n",
    "    for n in N_list:\n",
    "        for sizes in sizes_list:\n",
    "            config = copy.deepcopy(config_init)\n",
    "            config['diffusion_model']['sde']['type'] = sde\n",
    "            config['diffusion_model']['sde']['N'] = n\n",
    "            config['diffusion_model']['network']['n_steps'] = n\n",
    "            if sde == 'DiscreteSigmaVPSDE':\n",
    "                config['diffusion_model']['sde']['power_spectrum_name'] = power_spectrum_name\n",
    "            config['diffusion_model']['sde']['ddpm_math'] = False\n",
    "            config['epochs'] = 20000\n",
    "            config['diffusion_model']['network']['sizes'] = sizes\n",
    "            if sde == 'DiscreteVPSDE':\n",
    "                config['model_id'] = 'DiscreteSBM_ND_VPSDE_MHD_BPROJ_N_{}_bottleneck_{}'.format(n,sizes[-1])\n",
    "            else:\n",
    "                config['model_id'] = 'DiscreteSBM_ND_SigmaVPSDE_MHD_BPROJ_N_{}_bottleneck_{}'.format(n,sizes[-1])\n",
    "            all_configs[config['model_id']] = config"
   ]
  },
  {
   "cell_type": "code",
   "execution_count": 8,
   "metadata": {},
   "outputs": [
    {
     "name": "stdout",
     "output_type": "stream",
     "text": [
      "dict_keys(['DiscreteSBM_ND_SigmaVPSDE_MHD_BPROJ_N_1000_bottleneck_32', 'DiscreteSBM_ND_SigmaVPSDE_MHD_BPROJ_N_1000_bottleneck_16', 'DiscreteSBM_ND_SigmaVPSDE_MHD_BPROJ_N_4000_bottleneck_32', 'DiscreteSBM_ND_SigmaVPSDE_MHD_BPROJ_N_4000_bottleneck_16', 'DiscreteSBM_ND_SigmaVPSDE_MHD_BPROJ_N_8000_bottleneck_32', 'DiscreteSBM_ND_SigmaVPSDE_MHD_BPROJ_N_8000_bottleneck_16', 'DiscreteSBM_ND_VPSDE_MHD_BPROJ_N_1000_bottleneck_32', 'DiscreteSBM_ND_VPSDE_MHD_BPROJ_N_1000_bottleneck_16', 'DiscreteSBM_ND_VPSDE_MHD_BPROJ_N_4000_bottleneck_32', 'DiscreteSBM_ND_VPSDE_MHD_BPROJ_N_4000_bottleneck_16', 'DiscreteSBM_ND_VPSDE_MHD_BPROJ_N_8000_bottleneck_32', 'DiscreteSBM_ND_VPSDE_MHD_BPROJ_N_8000_bottleneck_16'])\n"
     ]
    }
   ],
   "source": [
    "print(all_configs.keys())"
   ]
  },
  {
   "cell_type": "code",
   "execution_count": 9,
   "metadata": {},
   "outputs": [],
   "source": [
    "with open(os.path.join(CONFIG_FOLDER,'exp3','config.json'), 'w') as f:\n",
    "    json.dump(all_configs, f, indent=4)"
   ]
  },
  {
   "cell_type": "code",
   "execution_count": 10,
   "metadata": {},
   "outputs": [
    {
     "name": "stdout",
     "output_type": "stream",
     "text": [
      "DiscreteSBM_ND_SigmaVPSDE_MHD_BPROJ_N_1000_bottleneck_32\n",
      "DiscreteSBM_ND_SigmaVPSDE_MHD_BPROJ_N_1000_bottleneck_16\n",
      "DiscreteSBM_ND_SigmaVPSDE_MHD_BPROJ_N_4000_bottleneck_32\n",
      "DiscreteSBM_ND_SigmaVPSDE_MHD_BPROJ_N_4000_bottleneck_16\n",
      "DiscreteSBM_ND_SigmaVPSDE_MHD_BPROJ_N_8000_bottleneck_32\n",
      "DiscreteSBM_ND_SigmaVPSDE_MHD_BPROJ_N_8000_bottleneck_16\n",
      "DiscreteSBM_ND_VPSDE_MHD_BPROJ_N_1000_bottleneck_32\n",
      "DiscreteSBM_ND_VPSDE_MHD_BPROJ_N_1000_bottleneck_16\n",
      "DiscreteSBM_ND_VPSDE_MHD_BPROJ_N_4000_bottleneck_32\n",
      "DiscreteSBM_ND_VPSDE_MHD_BPROJ_N_4000_bottleneck_16\n",
      "DiscreteSBM_ND_VPSDE_MHD_BPROJ_N_8000_bottleneck_32\n",
      "DiscreteSBM_ND_VPSDE_MHD_BPROJ_N_8000_bottleneck_16\n"
     ]
    }
   ],
   "source": [
    "str_keys = \"\"\n",
    "for key in all_configs.keys():\n",
    "    print(key)\n",
    "    str_keys += key + \" \""
   ]
  },
  {
   "cell_type": "code",
   "execution_count": 11,
   "metadata": {},
   "outputs": [
    {
     "data": {
      "text/plain": [
       "'DiscreteSBM_ND_SigmaVPSDE_MHD_BPROJ_N_1000_bottleneck_32 DiscreteSBM_ND_SigmaVPSDE_MHD_BPROJ_N_1000_bottleneck_16 DiscreteSBM_ND_SigmaVPSDE_MHD_BPROJ_N_4000_bottleneck_32 DiscreteSBM_ND_SigmaVPSDE_MHD_BPROJ_N_4000_bottleneck_16 DiscreteSBM_ND_SigmaVPSDE_MHD_BPROJ_N_8000_bottleneck_32 DiscreteSBM_ND_SigmaVPSDE_MHD_BPROJ_N_8000_bottleneck_16 DiscreteSBM_ND_VPSDE_MHD_BPROJ_N_1000_bottleneck_32 DiscreteSBM_ND_VPSDE_MHD_BPROJ_N_1000_bottleneck_16 DiscreteSBM_ND_VPSDE_MHD_BPROJ_N_4000_bottleneck_32 DiscreteSBM_ND_VPSDE_MHD_BPROJ_N_4000_bottleneck_16 DiscreteSBM_ND_VPSDE_MHD_BPROJ_N_8000_bottleneck_32 DiscreteSBM_ND_VPSDE_MHD_BPROJ_N_8000_bottleneck_16 '"
      ]
     },
     "execution_count": 11,
     "metadata": {},
     "output_type": "execute_result"
    }
   ],
   "source": [
    "str_keys"
   ]
  },
  {
   "attachments": {},
   "cell_type": "markdown",
   "metadata": {},
   "source": [
    "## EXP4"
   ]
  },
  {
   "cell_type": "code",
   "execution_count": 17,
   "metadata": {},
   "outputs": [],
   "source": [
    "sizes_list = [[256, 128, 64, 32], [256, 128, 64, 32, 16,]]\n",
    "N_list = [1000, 4000]\n",
    "sde_list = ['DiscreteSigmaVPSDE']\n",
    "beta_min_list = [0.01, 0.05]\n",
    "scheduler_list = ['invsqrt', 'step']\n",
    "power_spectrum_name = 'cmb_256_8arcmippixel'"
   ]
  },
  {
   "cell_type": "code",
   "execution_count": 21,
   "metadata": {},
   "outputs": [],
   "source": [
    "all_configs = {}\n",
    "for sde in sde_list:\n",
    "    for n in N_list:\n",
    "        for sizes in sizes_list:\n",
    "            for beta in beta_min_list:\n",
    "                for scheduler in scheduler_list:\n",
    "                    config = copy.deepcopy(config_init)\n",
    "                    config['diffusion_model']['sde']['type'] = sde\n",
    "                    config['diffusion_model']['sde']['N'] = n\n",
    "                    config['diffusion_model']['sde']['beta_min'] = beta\n",
    "                    config['diffusion_model']['network']['n_steps'] = n\n",
    "                    config['diffusion_model']['sde']['power_spectrum_name'] = power_spectrum_name\n",
    "                    config['diffusion_model']['sde']['ddpm_math'] = False\n",
    "                    config['epochs'] = 20000\n",
    "                    config['diffusion_model']['network']['sizes'] = sizes\n",
    "                    if scheduler == 'step':\n",
    "                        config['scheduler'] = {'type': 'step', 'warmup' : 100, 'max_lr': 2e-3, 'step_period' : 400}\n",
    "                    config['model_id'] = 'DiscreteSBM_ND_SigmaVPSDE_MHD_BPROJ_N_{}_bottleneck_{}_betamin_{}_{}'.format(n,sizes[-1], beta, scheduler)\n",
    "                    all_configs[config['model_id']] = config"
   ]
  },
  {
   "cell_type": "code",
   "execution_count": 22,
   "metadata": {},
   "outputs": [],
   "source": [
    "with open(os.path.join(CONFIG_FOLDER,'exp4','config.json'), 'w') as f:\n",
    "    json.dump(all_configs, f, indent=4)"
   ]
  },
  {
   "cell_type": "code",
   "execution_count": 23,
   "metadata": {},
   "outputs": [
    {
     "name": "stdout",
     "output_type": "stream",
     "text": [
      "DiscreteSBM_ND_SigmaVPSDE_MHD_BPROJ_N_1000_bottleneck_32_betamin_0.01_invsqrt\n",
      "DiscreteSBM_ND_SigmaVPSDE_MHD_BPROJ_N_1000_bottleneck_32_betamin_0.01_step\n",
      "DiscreteSBM_ND_SigmaVPSDE_MHD_BPROJ_N_1000_bottleneck_32_betamin_0.05_invsqrt\n",
      "DiscreteSBM_ND_SigmaVPSDE_MHD_BPROJ_N_1000_bottleneck_32_betamin_0.05_step\n",
      "DiscreteSBM_ND_SigmaVPSDE_MHD_BPROJ_N_1000_bottleneck_16_betamin_0.01_invsqrt\n",
      "DiscreteSBM_ND_SigmaVPSDE_MHD_BPROJ_N_1000_bottleneck_16_betamin_0.01_step\n",
      "DiscreteSBM_ND_SigmaVPSDE_MHD_BPROJ_N_1000_bottleneck_16_betamin_0.05_invsqrt\n",
      "DiscreteSBM_ND_SigmaVPSDE_MHD_BPROJ_N_1000_bottleneck_16_betamin_0.05_step\n",
      "DiscreteSBM_ND_SigmaVPSDE_MHD_BPROJ_N_4000_bottleneck_32_betamin_0.01_invsqrt\n",
      "DiscreteSBM_ND_SigmaVPSDE_MHD_BPROJ_N_4000_bottleneck_32_betamin_0.01_step\n",
      "DiscreteSBM_ND_SigmaVPSDE_MHD_BPROJ_N_4000_bottleneck_32_betamin_0.05_invsqrt\n",
      "DiscreteSBM_ND_SigmaVPSDE_MHD_BPROJ_N_4000_bottleneck_32_betamin_0.05_step\n",
      "DiscreteSBM_ND_SigmaVPSDE_MHD_BPROJ_N_4000_bottleneck_16_betamin_0.01_invsqrt\n",
      "DiscreteSBM_ND_SigmaVPSDE_MHD_BPROJ_N_4000_bottleneck_16_betamin_0.01_step\n",
      "DiscreteSBM_ND_SigmaVPSDE_MHD_BPROJ_N_4000_bottleneck_16_betamin_0.05_invsqrt\n",
      "DiscreteSBM_ND_SigmaVPSDE_MHD_BPROJ_N_4000_bottleneck_16_betamin_0.05_step\n"
     ]
    }
   ],
   "source": [
    "str_keys = \"\"\n",
    "for key in all_configs.keys():\n",
    "    print(key)\n",
    "    str_keys += key + \" \""
   ]
  },
  {
   "cell_type": "code",
   "execution_count": 24,
   "metadata": {},
   "outputs": [
    {
     "data": {
      "text/plain": [
       "'DiscreteSBM_ND_SigmaVPSDE_MHD_BPROJ_N_1000_bottleneck_32_betamin_0.01_invsqrt DiscreteSBM_ND_SigmaVPSDE_MHD_BPROJ_N_1000_bottleneck_32_betamin_0.01_step DiscreteSBM_ND_SigmaVPSDE_MHD_BPROJ_N_1000_bottleneck_32_betamin_0.05_invsqrt DiscreteSBM_ND_SigmaVPSDE_MHD_BPROJ_N_1000_bottleneck_32_betamin_0.05_step DiscreteSBM_ND_SigmaVPSDE_MHD_BPROJ_N_1000_bottleneck_16_betamin_0.01_invsqrt DiscreteSBM_ND_SigmaVPSDE_MHD_BPROJ_N_1000_bottleneck_16_betamin_0.01_step DiscreteSBM_ND_SigmaVPSDE_MHD_BPROJ_N_1000_bottleneck_16_betamin_0.05_invsqrt DiscreteSBM_ND_SigmaVPSDE_MHD_BPROJ_N_1000_bottleneck_16_betamin_0.05_step DiscreteSBM_ND_SigmaVPSDE_MHD_BPROJ_N_4000_bottleneck_32_betamin_0.01_invsqrt DiscreteSBM_ND_SigmaVPSDE_MHD_BPROJ_N_4000_bottleneck_32_betamin_0.01_step DiscreteSBM_ND_SigmaVPSDE_MHD_BPROJ_N_4000_bottleneck_32_betamin_0.05_invsqrt DiscreteSBM_ND_SigmaVPSDE_MHD_BPROJ_N_4000_bottleneck_32_betamin_0.05_step DiscreteSBM_ND_SigmaVPSDE_MHD_BPROJ_N_4000_bottleneck_16_betamin_0.01_invsqrt DiscreteSBM_ND_SigmaVPSDE_MHD_BPROJ_N_4000_bottleneck_16_betamin_0.01_step DiscreteSBM_ND_SigmaVPSDE_MHD_BPROJ_N_4000_bottleneck_16_betamin_0.05_invsqrt DiscreteSBM_ND_SigmaVPSDE_MHD_BPROJ_N_4000_bottleneck_16_betamin_0.05_step '"
      ]
     },
     "execution_count": 24,
     "metadata": {},
     "output_type": "execute_result"
    }
   ],
   "source": [
    "str_keys"
   ]
  },
  {
   "cell_type": "markdown",
   "metadata": {},
   "source": [
    "### EXP5"
   ]
  },
  {
   "cell_type": "markdown",
   "metadata": {},
   "source": [
    "Custom"
   ]
  },
  {
   "cell_type": "markdown",
   "metadata": {},
   "source": [
    "### EXP6"
   ]
  },
  {
   "cell_type": "code",
   "execution_count": 3,
   "metadata": {},
   "outputs": [],
   "source": [
    "sizes_list = [[256, 128, 64, 32], [256, 128, 64, 32, 16,]]\n",
    "first_c_list = [6, 10, 20]\n",
    "scheduler_list = ['invsqrt', 'step']"
   ]
  },
  {
   "cell_type": "code",
   "execution_count": 4,
   "metadata": {},
   "outputs": [],
   "source": [
    "with open(os.path.join(CONFIG_FOLDER, 'exp5', 'config.json'), 'r') as f:\n",
    "    only_configs = json.load(f)"
   ]
  },
  {
   "cell_type": "code",
   "execution_count": 5,
   "metadata": {},
   "outputs": [],
   "source": [
    "key = next(iter(only_configs.keys()))\n",
    "config_init = only_configs[key]"
   ]
  },
  {
   "cell_type": "code",
   "execution_count": 6,
   "metadata": {},
   "outputs": [
    {
     "data": {
      "text/plain": [
       "{'diffusion_model': {'sde': {'type': 'discretevpsde',\n",
       "   'beta_min': 0.1,\n",
       "   'beta_max': 20.0,\n",
       "   'N': 1000},\n",
       "  'network': {'in_c': 1,\n",
       "   'out_c': 1,\n",
       "   'first_c': 20,\n",
       "   'sizes': [256, 128, 64, 32, 16],\n",
       "   'num_blocks': 1,\n",
       "   'n_steps': 4000,\n",
       "   'time_emb_dim': 100,\n",
       "   'dropout': 0,\n",
       "   'attention': [],\n",
       "   'normalisation': 'GN',\n",
       "   'padding_mode': 'circular',\n",
       "   'eps_norm': 1e-05,\n",
       "   'skiprescale': True,\n",
       "   'type': 'ResUNet',\n",
       "   'discretization': 'discrete',\n",
       "   'embedding_mode': None},\n",
       "  'type': 'DiscreteSBM',\n",
       "  'ps': {'type': 'cmb_h_ombh2'}},\n",
       " 'dataloaders': {'train_batch_size': 64,\n",
       "  'test_batch_size': 128,\n",
       "  'num_workers': 8,\n",
       "  'seed': 33,\n",
       "  'split': 0.1,\n",
       "  'dataset': {'dir': '/mnt/home/dheurtel/ceph/01_data/CATS_MHD_BPROJ_DENSITY/',\n",
       "   'type': 'npy files',\n",
       "   'transforms': ['Random_Rotate90'],\n",
       "   'name': 'CATS_MHD_BPROJ_DENSITY'},\n",
       "  'name': 'CATS_MHD_BPROJ_DENSITY'},\n",
       " 'optimizer': {'type': 'AdamW', 'lr': 0.001, 'weight_decay': 0.0001},\n",
       " 'scheduler': {'type': 'invsqrt',\n",
       "  'warmup': 100,\n",
       "  'maxlr': 0.0004,\n",
       "  'last_step': -1,\n",
       "  'minlr': 4e-05},\n",
       " 'ckpt_epoch': 200,\n",
       " 'separate_ckpt': False,\n",
       " 'ckpt_dir': '/mnt/home/dheurtel/ceph/02_checkpoints',\n",
       " 'sample_epoch': 200,\n",
       " 'sample_dir': '/mnt/home/dheurtel/ceph/03_samples',\n",
       " 'sample_size': 8,\n",
       " 'results_size': 64,\n",
       " 'epochs': 12000,\n",
       " 'model_id': 'DiscreteSBM_MultiSigmaVPSDE_MHD_BPROJ_N_1000_bottleneck_16_firstc_20'}"
      ]
     },
     "execution_count": 6,
     "metadata": {},
     "output_type": "execute_result"
    }
   ],
   "source": [
    "config_init"
   ]
  },
  {
   "cell_type": "code",
   "execution_count": 7,
   "metadata": {},
   "outputs": [],
   "source": [
    "all_configs = {}\n",
    "for sizes in sizes_list:\n",
    "    for first_c in first_c_list:\n",
    "        for scheduler in scheduler_list:\n",
    "            config = copy.deepcopy(config_init)\n",
    "            config['diffusion_model']['network']['sizes'] = sizes\n",
    "            if scheduler == 'step':\n",
    "                config['scheduler'] = {'type': 'step', 'warmup' : 100, 'max_lr': 2e-3, 'step_period' : 400}\n",
    "            config['model_id'] = 'DiscreteSBM_MultiSigmaVPSDE_MHD_BPROJ_N_1000_bottleneck_{}_firstc_{}_{}'.format(sizes[-1], first_c, scheduler)\n",
    "            all_configs[config['model_id']] = config"
   ]
  },
  {
   "cell_type": "code",
   "execution_count": 8,
   "metadata": {},
   "outputs": [
    {
     "name": "stdout",
     "output_type": "stream",
     "text": [
      "DiscreteSBM_MultiSigmaVPSDE_MHD_BPROJ_N_1000_bottleneck_32_firstc_6_invsqrt\n",
      "DiscreteSBM_MultiSigmaVPSDE_MHD_BPROJ_N_1000_bottleneck_32_firstc_6_step\n",
      "DiscreteSBM_MultiSigmaVPSDE_MHD_BPROJ_N_1000_bottleneck_32_firstc_10_invsqrt\n",
      "DiscreteSBM_MultiSigmaVPSDE_MHD_BPROJ_N_1000_bottleneck_32_firstc_10_step\n",
      "DiscreteSBM_MultiSigmaVPSDE_MHD_BPROJ_N_1000_bottleneck_32_firstc_20_invsqrt\n",
      "DiscreteSBM_MultiSigmaVPSDE_MHD_BPROJ_N_1000_bottleneck_32_firstc_20_step\n",
      "DiscreteSBM_MultiSigmaVPSDE_MHD_BPROJ_N_1000_bottleneck_16_firstc_6_invsqrt\n",
      "DiscreteSBM_MultiSigmaVPSDE_MHD_BPROJ_N_1000_bottleneck_16_firstc_6_step\n",
      "DiscreteSBM_MultiSigmaVPSDE_MHD_BPROJ_N_1000_bottleneck_16_firstc_10_invsqrt\n",
      "DiscreteSBM_MultiSigmaVPSDE_MHD_BPROJ_N_1000_bottleneck_16_firstc_10_step\n",
      "DiscreteSBM_MultiSigmaVPSDE_MHD_BPROJ_N_1000_bottleneck_16_firstc_20_invsqrt\n",
      "DiscreteSBM_MultiSigmaVPSDE_MHD_BPROJ_N_1000_bottleneck_16_firstc_20_step\n"
     ]
    }
   ],
   "source": [
    "str_keys = \"\"\n",
    "for key in all_configs.keys():\n",
    "    print(key)\n",
    "    str_keys += key + \" \""
   ]
  },
  {
   "cell_type": "code",
   "execution_count": 9,
   "metadata": {},
   "outputs": [],
   "source": [
    "with open(os.path.join(CONFIG_FOLDER,'exp6','config.json'), 'w') as f:\n",
    "    json.dump(all_configs, f, indent=4)"
   ]
  },
  {
   "cell_type": "code",
   "execution_count": 10,
   "metadata": {},
   "outputs": [
    {
     "data": {
      "text/plain": [
       "'DiscreteSBM_MultiSigmaVPSDE_MHD_BPROJ_N_1000_bottleneck_32_firstc_6_invsqrt DiscreteSBM_MultiSigmaVPSDE_MHD_BPROJ_N_1000_bottleneck_32_firstc_6_step DiscreteSBM_MultiSigmaVPSDE_MHD_BPROJ_N_1000_bottleneck_32_firstc_10_invsqrt DiscreteSBM_MultiSigmaVPSDE_MHD_BPROJ_N_1000_bottleneck_32_firstc_10_step DiscreteSBM_MultiSigmaVPSDE_MHD_BPROJ_N_1000_bottleneck_32_firstc_20_invsqrt DiscreteSBM_MultiSigmaVPSDE_MHD_BPROJ_N_1000_bottleneck_32_firstc_20_step DiscreteSBM_MultiSigmaVPSDE_MHD_BPROJ_N_1000_bottleneck_16_firstc_6_invsqrt DiscreteSBM_MultiSigmaVPSDE_MHD_BPROJ_N_1000_bottleneck_16_firstc_6_step DiscreteSBM_MultiSigmaVPSDE_MHD_BPROJ_N_1000_bottleneck_16_firstc_10_invsqrt DiscreteSBM_MultiSigmaVPSDE_MHD_BPROJ_N_1000_bottleneck_16_firstc_10_step DiscreteSBM_MultiSigmaVPSDE_MHD_BPROJ_N_1000_bottleneck_16_firstc_20_invsqrt DiscreteSBM_MultiSigmaVPSDE_MHD_BPROJ_N_1000_bottleneck_16_firstc_20_step '"
      ]
     },
     "execution_count": 10,
     "metadata": {},
     "output_type": "execute_result"
    }
   ],
   "source": [
    "str_keys"
   ]
  },
  {
   "cell_type": "code",
   "execution_count": null,
   "metadata": {},
   "outputs": [],
   "source": []
  },
  {
   "cell_type": "markdown",
   "metadata": {},
   "source": [
    "## EXP 7"
   ]
  },
  {
   "cell_type": "code",
   "execution_count": 14,
   "metadata": {},
   "outputs": [],
   "source": [
    "sizes_list = [[256, 128, 64, 32], [256, 128, 64, 32, 16,]]\n",
    "first_c_list = [6, 10, 20]\n",
    "\n",
    "dataset_name = 'CATS_I'\n",
    "epochs = 15000\n",
    "\n",
    "all_configs = {}"
   ]
  },
  {
   "cell_type": "code",
   "execution_count": 18,
   "metadata": {},
   "outputs": [],
   "source": [
    "for sizes in sizes_list:\n",
    "    for first_c in first_c_list:\n",
    "        config = copy.deepcopy(config_init)\n",
    "        config['diffusion_model']['network']['sizes'] = sizes\n",
    "        config['diffusion_model']['network']['first_c'] = first_c\n",
    "        config['model_id'] = 'DiscreteSBM_MultiSigmaVPSDE_I_BPROJ_N_1000_bottleneck_{}_firstc_{}'.format(sizes[-1], first_c)\n",
    "        config['dataloaders']['name'] = dataset_name\n",
    "        config['dataloaders']['dataset']['name'] = dataset_name\n",
    "        config['dataloaders']['dataset']['dir'] = '/mnt/home/dheurtel/ceph/01_data/CATS_I/'\n",
    "        config['epochs'] = epochs\n",
    "        all_configs[config['model_id']] = config"
   ]
  },
  {
   "cell_type": "code",
   "execution_count": 19,
   "metadata": {},
   "outputs": [
    {
     "data": {
      "text/plain": [
       "dict_keys(['DiscreteSBM_MultiSigmaVPSDE_I_BPROJ_N_1000_bottleneck_32_firstc_6', 'DiscreteSBM_MultiSigmaVPSDE_I_BPROJ_N_1000_bottleneck_32_firstc_10', 'DiscreteSBM_MultiSigmaVPSDE_I_BPROJ_N_1000_bottleneck_32_firstc_20', 'DiscreteSBM_MultiSigmaVPSDE_I_BPROJ_N_1000_bottleneck_16_firstc_6', 'DiscreteSBM_MultiSigmaVPSDE_I_BPROJ_N_1000_bottleneck_16_firstc_10', 'DiscreteSBM_MultiSigmaVPSDE_I_BPROJ_N_1000_bottleneck_16_firstc_20'])"
      ]
     },
     "execution_count": 19,
     "metadata": {},
     "output_type": "execute_result"
    }
   ],
   "source": [
    "all_configs.keys()"
   ]
  },
  {
   "cell_type": "code",
   "execution_count": 21,
   "metadata": {},
   "outputs": [
    {
     "name": "stdout",
     "output_type": "stream",
     "text": [
      "DiscreteSBM_MultiSigmaVPSDE_I_BPROJ_N_1000_bottleneck_32_firstc_6\n",
      "DiscreteSBM_MultiSigmaVPSDE_I_BPROJ_N_1000_bottleneck_32_firstc_10\n",
      "DiscreteSBM_MultiSigmaVPSDE_I_BPROJ_N_1000_bottleneck_32_firstc_20\n",
      "DiscreteSBM_MultiSigmaVPSDE_I_BPROJ_N_1000_bottleneck_16_firstc_6\n",
      "DiscreteSBM_MultiSigmaVPSDE_I_BPROJ_N_1000_bottleneck_16_firstc_10\n",
      "DiscreteSBM_MultiSigmaVPSDE_I_BPROJ_N_1000_bottleneck_16_firstc_20\n"
     ]
    }
   ],
   "source": [
    "str_keys = \"\"\n",
    "for key in all_configs.keys():\n",
    "    print(key)\n",
    "    str_keys += key + \" \""
   ]
  },
  {
   "cell_type": "code",
   "execution_count": 24,
   "metadata": {},
   "outputs": [
    {
     "data": {
      "text/plain": [
       "'DiscreteSBM_MultiSigmaVPSDE_I_BPROJ_N_1000_bottleneck_32_firstc_6 DiscreteSBM_MultiSigmaVPSDE_I_BPROJ_N_1000_bottleneck_32_firstc_10 DiscreteSBM_MultiSigmaVPSDE_I_BPROJ_N_1000_bottleneck_32_firstc_20 DiscreteSBM_MultiSigmaVPSDE_I_BPROJ_N_1000_bottleneck_16_firstc_6 DiscreteSBM_MultiSigmaVPSDE_I_BPROJ_N_1000_bottleneck_16_firstc_10 DiscreteSBM_MultiSigmaVPSDE_I_BPROJ_N_1000_bottleneck_16_firstc_20 '"
      ]
     },
     "execution_count": 24,
     "metadata": {},
     "output_type": "execute_result"
    }
   ],
   "source": [
    "str_keys"
   ]
  },
  {
   "cell_type": "code",
   "execution_count": 23,
   "metadata": {},
   "outputs": [],
   "source": [
    "with open(os.path.join(CONFIG_FOLDER,'exp7','config.json'), 'w') as f:\n",
    "    json.dump(all_configs, f, indent=4)"
   ]
  },
  {
   "cell_type": "markdown",
   "metadata": {},
   "source": [
    "## EXP 8"
   ]
  },
  {
   "cell_type": "code",
   "execution_count": 7,
   "metadata": {},
   "outputs": [],
   "source": [
    "sizes_list = [[256, 128, 64, 32], [256, 128, 64, 32, 16,]]\n",
    "first_c_list = [6, 10]\n",
    "N_list = [2000, 4000, 8000]\n",
    "dataset_name = 'CATS_I'\n",
    "epochs = 15000\n",
    "\n",
    "all_configs = {}"
   ]
  },
  {
   "cell_type": "code",
   "execution_count": 8,
   "metadata": {},
   "outputs": [],
   "source": [
    "for sizes in sizes_list:\n",
    "    for first_c in first_c_list:\n",
    "        for N in N_list:\n",
    "            config = copy.deepcopy(config_init)\n",
    "            config['diffusion_model']['network']['sizes'] = sizes\n",
    "            config['diffusion_model']['network']['first_c'] = first_c\n",
    "            config['diffusion_model']['sde']['N'] = N\n",
    "            config['diffusion_model']['network']['n_steps'] = N\n",
    "            config['dataloaders']['name'] = dataset_name\n",
    "            config['dataloaders']['dataset']['name'] = dataset_name\n",
    "            config['dataloaders']['dataset']['dir'] = '/mnt/home/dheurtel/ceph/01_data/CATS_I/'\n",
    "            config['epochs'] = epochs\n",
    "            config['model_id'] = 'DiscreteSBM_MultiSigmaVPSDE_I_BPROJ_N_{}_bottleneck_{}_firstc_{}'.format(N,sizes[-1], first_c)\n",
    "            \n",
    "            all_configs[config['model_id']] = config"
   ]
  },
  {
   "cell_type": "code",
   "execution_count": 9,
   "metadata": {},
   "outputs": [
    {
     "name": "stdout",
     "output_type": "stream",
     "text": [
      "DiscreteSBM_MultiSigmaVPSDE_I_BPROJ_N_2000_bottleneck_32_firstc_6\n",
      "DiscreteSBM_MultiSigmaVPSDE_I_BPROJ_N_4000_bottleneck_32_firstc_6\n",
      "DiscreteSBM_MultiSigmaVPSDE_I_BPROJ_N_8000_bottleneck_32_firstc_6\n",
      "DiscreteSBM_MultiSigmaVPSDE_I_BPROJ_N_2000_bottleneck_32_firstc_10\n",
      "DiscreteSBM_MultiSigmaVPSDE_I_BPROJ_N_4000_bottleneck_32_firstc_10\n",
      "DiscreteSBM_MultiSigmaVPSDE_I_BPROJ_N_8000_bottleneck_32_firstc_10\n",
      "DiscreteSBM_MultiSigmaVPSDE_I_BPROJ_N_2000_bottleneck_16_firstc_6\n",
      "DiscreteSBM_MultiSigmaVPSDE_I_BPROJ_N_4000_bottleneck_16_firstc_6\n",
      "DiscreteSBM_MultiSigmaVPSDE_I_BPROJ_N_8000_bottleneck_16_firstc_6\n",
      "DiscreteSBM_MultiSigmaVPSDE_I_BPROJ_N_2000_bottleneck_16_firstc_10\n",
      "DiscreteSBM_MultiSigmaVPSDE_I_BPROJ_N_4000_bottleneck_16_firstc_10\n",
      "DiscreteSBM_MultiSigmaVPSDE_I_BPROJ_N_8000_bottleneck_16_firstc_10\n"
     ]
    }
   ],
   "source": [
    "str_keys = \"\"\n",
    "for key in all_configs.keys():\n",
    "    print(key)\n",
    "    str_keys += key + \" \""
   ]
  },
  {
   "cell_type": "code",
   "execution_count": 10,
   "metadata": {},
   "outputs": [
    {
     "data": {
      "text/plain": [
       "'DiscreteSBM_MultiSigmaVPSDE_I_BPROJ_N_2000_bottleneck_32_firstc_6 DiscreteSBM_MultiSigmaVPSDE_I_BPROJ_N_4000_bottleneck_32_firstc_6 DiscreteSBM_MultiSigmaVPSDE_I_BPROJ_N_8000_bottleneck_32_firstc_6 DiscreteSBM_MultiSigmaVPSDE_I_BPROJ_N_2000_bottleneck_32_firstc_10 DiscreteSBM_MultiSigmaVPSDE_I_BPROJ_N_4000_bottleneck_32_firstc_10 DiscreteSBM_MultiSigmaVPSDE_I_BPROJ_N_8000_bottleneck_32_firstc_10 DiscreteSBM_MultiSigmaVPSDE_I_BPROJ_N_2000_bottleneck_16_firstc_6 DiscreteSBM_MultiSigmaVPSDE_I_BPROJ_N_4000_bottleneck_16_firstc_6 DiscreteSBM_MultiSigmaVPSDE_I_BPROJ_N_8000_bottleneck_16_firstc_6 DiscreteSBM_MultiSigmaVPSDE_I_BPROJ_N_2000_bottleneck_16_firstc_10 DiscreteSBM_MultiSigmaVPSDE_I_BPROJ_N_4000_bottleneck_16_firstc_10 DiscreteSBM_MultiSigmaVPSDE_I_BPROJ_N_8000_bottleneck_16_firstc_10 '"
      ]
     },
     "execution_count": 10,
     "metadata": {},
     "output_type": "execute_result"
    }
   ],
   "source": [
    "str_keys"
   ]
  },
  {
   "cell_type": "code",
   "execution_count": 11,
   "metadata": {},
   "outputs": [],
   "source": [
    "with open(os.path.join(CONFIG_FOLDER,'exp8','config.json'), 'w') as f:\n",
    "    json.dump(all_configs, f, indent=4)"
   ]
  },
  {
   "cell_type": "markdown",
   "metadata": {},
   "source": [
    "## EXP 9"
   ]
  },
  {
   "cell_type": "code",
   "execution_count": 12,
   "metadata": {},
   "outputs": [],
   "source": [
    "ps_config = {\"type\": \"constant\",\n",
    "            \"ps_path\": \"/mnt/home/dheurtel/astroddpm/astroddpm/diffusion/power_spectra/power_spectra/cmb_256_8arcmippixel.npy\"}"
   ]
  },
  {
   "cell_type": "code",
   "execution_count": 16,
   "metadata": {},
   "outputs": [],
   "source": [
    "sizes_list = [[256, 128, 64, 32], [256, 128, 64, 32, 16,]]\n",
    "first_c_list = [6, 10]\n",
    "N_list = [1000,2000, 4000]\n",
    "dataset_name = 'CATS_I'\n",
    "epochs = 15000\n",
    "\n",
    "all_configs = {}"
   ]
  },
  {
   "cell_type": "code",
   "execution_count": 17,
   "metadata": {},
   "outputs": [],
   "source": [
    "for sizes in sizes_list:\n",
    "    for first_c in first_c_list:\n",
    "        for N in N_list:\n",
    "            config = copy.deepcopy(config_init)\n",
    "            config['diffusion_model']['network']['sizes'] = sizes\n",
    "            config['diffusion_model']['network']['first_c'] = first_c\n",
    "            config['diffusion_model']['sde']['N'] = N\n",
    "            config['diffusion_model']['network']['n_steps'] = N\n",
    "            config['diffusion_model']['ps'] = ps_config\n",
    "            config['dataloaders']['name'] = dataset_name\n",
    "            config['dataloaders']['dataset']['name'] = dataset_name\n",
    "            config['dataloaders']['dataset']['dir'] = '/mnt/home/dheurtel/ceph/01_data/CATS_I/'\n",
    "            config['epochs'] = epochs\n",
    "            config['model_id'] = 'DiscreteSBM_SigmaVPSDE_I_BPROJ_N_{}_bottleneck_{}_firstc_{}'.format(N,sizes[-1], first_c)\n",
    "            \n",
    "            all_configs[config['model_id']] = config"
   ]
  },
  {
   "cell_type": "code",
   "execution_count": 18,
   "metadata": {},
   "outputs": [
    {
     "name": "stdout",
     "output_type": "stream",
     "text": [
      "DiscreteSBM_SigmaVPSDE_I_BPROJ_N_1000_bottleneck_32_firstc_6\n",
      "DiscreteSBM_SigmaVPSDE_I_BPROJ_N_2000_bottleneck_32_firstc_6\n",
      "DiscreteSBM_SigmaVPSDE_I_BPROJ_N_4000_bottleneck_32_firstc_6\n",
      "DiscreteSBM_SigmaVPSDE_I_BPROJ_N_1000_bottleneck_32_firstc_10\n",
      "DiscreteSBM_SigmaVPSDE_I_BPROJ_N_2000_bottleneck_32_firstc_10\n",
      "DiscreteSBM_SigmaVPSDE_I_BPROJ_N_4000_bottleneck_32_firstc_10\n",
      "DiscreteSBM_SigmaVPSDE_I_BPROJ_N_1000_bottleneck_16_firstc_6\n",
      "DiscreteSBM_SigmaVPSDE_I_BPROJ_N_2000_bottleneck_16_firstc_6\n",
      "DiscreteSBM_SigmaVPSDE_I_BPROJ_N_4000_bottleneck_16_firstc_6\n",
      "DiscreteSBM_SigmaVPSDE_I_BPROJ_N_1000_bottleneck_16_firstc_10\n",
      "DiscreteSBM_SigmaVPSDE_I_BPROJ_N_2000_bottleneck_16_firstc_10\n",
      "DiscreteSBM_SigmaVPSDE_I_BPROJ_N_4000_bottleneck_16_firstc_10\n"
     ]
    }
   ],
   "source": [
    "str_keys = \"\"\n",
    "for key in all_configs.keys():\n",
    "    print(key)\n",
    "    str_keys += key + \" \""
   ]
  },
  {
   "cell_type": "code",
   "execution_count": 19,
   "metadata": {},
   "outputs": [
    {
     "data": {
      "text/plain": [
       "'DiscreteSBM_SigmaVPSDE_I_BPROJ_N_1000_bottleneck_32_firstc_6 DiscreteSBM_SigmaVPSDE_I_BPROJ_N_2000_bottleneck_32_firstc_6 DiscreteSBM_SigmaVPSDE_I_BPROJ_N_4000_bottleneck_32_firstc_6 DiscreteSBM_SigmaVPSDE_I_BPROJ_N_1000_bottleneck_32_firstc_10 DiscreteSBM_SigmaVPSDE_I_BPROJ_N_2000_bottleneck_32_firstc_10 DiscreteSBM_SigmaVPSDE_I_BPROJ_N_4000_bottleneck_32_firstc_10 DiscreteSBM_SigmaVPSDE_I_BPROJ_N_1000_bottleneck_16_firstc_6 DiscreteSBM_SigmaVPSDE_I_BPROJ_N_2000_bottleneck_16_firstc_6 DiscreteSBM_SigmaVPSDE_I_BPROJ_N_4000_bottleneck_16_firstc_6 DiscreteSBM_SigmaVPSDE_I_BPROJ_N_1000_bottleneck_16_firstc_10 DiscreteSBM_SigmaVPSDE_I_BPROJ_N_2000_bottleneck_16_firstc_10 DiscreteSBM_SigmaVPSDE_I_BPROJ_N_4000_bottleneck_16_firstc_10 '"
      ]
     },
     "execution_count": 19,
     "metadata": {},
     "output_type": "execute_result"
    }
   ],
   "source": [
    "str_keys"
   ]
  },
  {
   "cell_type": "code",
   "execution_count": 20,
   "metadata": {},
   "outputs": [],
   "source": [
    "with open(os.path.join(CONFIG_FOLDER,'exp9','config.json'), 'w') as f:\n",
    "    json.dump(all_configs, f, indent=4)"
   ]
  },
  {
   "cell_type": "code",
   "execution_count": null,
   "metadata": {},
   "outputs": [],
   "source": []
  }
 ],
 "metadata": {
  "kernelspec": {
   "display_name": "env3",
   "language": "python",
   "name": "python3"
  },
  "language_info": {
   "codemirror_mode": {
    "name": "ipython",
    "version": 3
   },
   "file_extension": ".py",
   "mimetype": "text/x-python",
   "name": "python",
   "nbconvert_exporter": "python",
   "pygments_lexer": "ipython3",
   "version": "3.9.16"
  },
  "orig_nbformat": 4
 },
 "nbformat": 4,
 "nbformat_minor": 2
}
