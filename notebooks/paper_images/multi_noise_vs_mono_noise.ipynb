{
 "cells": [
  {
   "cell_type": "code",
   "execution_count": 124,
   "metadata": {},
   "outputs": [],
   "source": [
    "## Standard imports\n",
    "import numpy as np\n",
    "import matplotlib as mpl\n",
    "import matplotlib.pyplot as plt\n",
    "import matplotlib.ticker as ticker\n",
    "import os\n",
    "import json\n",
    "import torch\n",
    "import astroddpm\n",
    "import re\n",
    "import tqdm.notebook as tqdm\n",
    "\n",
    "## Relative imports\n",
    "from astroddpm.runners import Diffuser, config_from_id, get_samples\n",
    "from astroddpm.analysis.validationMetrics import powerSpectrum, minkowskiFunctional, basics\n",
    "from astroddpm.analysis import overfitting_check\n",
    "from astroddpm.utils.plot import check_nearest_epoch, plot_losses, check_training_samples, plot_comparaison\n",
    "from astroddpm.diffusion.dm import DiscreteSBM\n",
    "from astroddpm.diffusion.stochastic.sde import DiscreteVPSDE\n",
    "from astroddpm.diffusion.models.network import ResUNet\n",
    "import astroddpm.utils.colormap_custom \n",
    "from quantimpy import minkowski as mk\n",
    "\n",
    "## Wasserstein distance\n",
    "from scipy.stats import wasserstein_distance"
   ]
  },
  {
   "cell_type": "code",
   "execution_count": 125,
   "metadata": {},
   "outputs": [],
   "source": [
    "save_fig = True\n",
    "\n",
    "params = {'text.usetex': True,\n",
    "         'text.latex.preamble': r'\\usepackage{amsmath}',\n",
    "         \"font.family\": \"serif\", \"font.serif\": [\"Computer Modern Roman\"],\n",
    "         'font.size': 12,\n",
    "         'image.interpolation': 'none'}\n",
    "plt.rcParams.update(params)"
   ]
  },
  {
   "cell_type": "code",
   "execution_count": 126,
   "metadata": {},
   "outputs": [
    {
     "name": "stdout",
     "output_type": "stream",
     "text": [
      "dict_keys(['DiscreteSBM_ND_SigmaVPSDE_MHD_BPROJ_N_4000_bottleneck_32', 'DiscreteSBM_ND_SigmaVPSDE_MHD_BPROJ_N_1000_bottleneck_16', 'DiscreteSBM_ND_SigmaVPSDE_MHD_BPROJ_N_4000_bottleneck_16', 'DiscreteSBM_ND_VPSDE_MHD_BPROJ_N_1000_bottleneck_32', 'DiscreteSBM_ND_VPSDE_MHD_BPROJ_N_1000_bottleneck_16', 'DiscreteSBM_ND_SigmaVPSDE_MHD_BPROJ_N_8000_bottleneck_16', 'DiscreteSBM_ND_VPSDE_MHD_BPROJ_N_4000_bottleneck_32', 'DiscreteSBM_ND_SigmaVPSDE_MHD_BPROJ_N_8000_bottleneck_32', 'DiscreteSBM_ND_VPSDE_MHD_BPROJ_N_4000_bottleneck_16', 'DiscreteSBM_ND_VPSDE_MHD_BPROJ_N_8000_bottleneck_32', 'DiscreteSBM_ND_VPSDE_MHD_BPROJ_N_8000_bottleneck_16', 'DiscreteSBM_ND_SigmaVPSDE_MHD_BPROJ_N_1000_bottleneck_32', 'DiscreteSBM_ND_SigmaVPSDE_MHD_BPROJ_N_4000_bottleneck_32_betamin_0.01_step', 'DiscreteSBM_ND_SigmaVPSDE_MHD_BPROJ_N_4000_bottleneck_32_betamin_0.05_invsqrt', 'DiscreteSBM_ND_SigmaVPSDE_MHD_BPROJ_N_1000_bottleneck_16_betamin_0.05_step', 'DiscreteSBM_ND_SigmaVPSDE_MHD_BPROJ_N_4000_bottleneck_32_betamin_0.01_invsqrt', 'DiscreteSBM_ND_SigmaVPSDE_MHD_BPROJ_N_1000_bottleneck_32_betamin_0.05_invsqrt', 'DiscreteSBM_ND_SigmaVPSDE_MHD_BPROJ_N_1000_bottleneck_32_betamin_0.01_step', 'DiscreteSBM_ND_SigmaVPSDE_MHD_BPROJ_N_1000_bottleneck_16_betamin_0.05_invsqrt', 'DiscreteSBM_ND_SigmaVPSDE_MHD_BPROJ_N_1000_bottleneck_16_betamin_0.01_step', 'DiscreteSBM_ND_SigmaVPSDE_MHD_BPROJ_N_1000_bottleneck_16_betamin_0.01_invsqrt', 'DiscreteSBM_ND_SigmaVPSDE_MHD_BPROJ_N_1000_bottleneck_32_betamin_0.01_invsqrt', 'DiscreteSBM_MultiSigmaVPSDE_MHD_BPROJ_N_1000_bottleneck_16_firstc_20', 'DiscreteSBM_MultiSigmaVPSDE_MHD_BPROJ_N_1000_bottleneck_32_firstc_6_invsqrt', 'DiscreteSBM_MultiSigmaVPSDE_MHD_BPROJ_N_1000_bottleneck_32_firstc_10_invsqrt', 'DiscreteSBM_MultiSigmaVPSDE_MHD_BPROJ_N_1000_bottleneck_32_firstc_20_invsqrt', 'DiscreteSBM_MultiSigmaVPSDE_MHD_BPROJ_N_1000_bottleneck_32_firstc_6_step', 'DiscreteSBM_MultiSigmaVPSDE_MHD_BPROJ_N_1000_bottleneck_32_firstc_10_step', 'DiscreteSBM_MultiSigmaVPSDE_MHD_BPROJ_N_1000_bottleneck_32_firstc_20_step', 'DiscreteSBM_MultiSigmaVPSDE_MHD_BPROJ_N_1000_bottleneck_16_firstc_6_invsqrt', 'DiscreteSBM_MultiSigmaVPSDE_MHD_BPROJ_N_1000_bottleneck_16_firstc_6_step', 'DiscreteSBM_MultiSigmaVPSDE_MHD_BPROJ_N_1000_bottleneck_16_firstc_20_invsqrt', 'DiscreteSBM_MultiSigmaVPSDE_MHD_BPROJ_N_1000_bottleneck_16_firstc_10_step', 'DiscreteSBM_MultiSigmaVPSDE_MHD_BPROJ_N_1000_bottleneck_16_firstc_10_invsqrt', 'DiscreteSBM_MultiSigmaVPSDE_MHD_BPROJ_N_1000_bottleneck_16_firstc_20_step', 'DiscreteSBM_MultiSigmaVPSDE_I_BPROJ_N_1000_bottleneck_32_firstc_6', 'DiscreteSBM_MultiSigmaVPSDE_I_BPROJ_N_1000_bottleneck_32_firstc_20', 'DiscreteSBM_MultiSigmaVPSDE_I_BPROJ_N_1000_bottleneck_16_firstc_10', 'DiscreteSBM_MultiSigmaVPSDE_I_BPROJ_N_1000_bottleneck_16_firstc_20', 'DiscreteSBM_MultiSigmaVPSDE_I_BPROJ_N_1000_bottleneck_16_firstc_6', 'DiscreteSBM_MultiSigmaVPSDE_I_BPROJ_N_1000_bottleneck_32_firstc_10', 'DiscreteSBM_MultiSigmaVPSDE_I_BPROJ_N_2000_bottleneck_32_firstc_6', 'DiscreteSBM_MultiSigmaVPSDE_I_BPROJ_N_4000_bottleneck_32_firstc_10', 'DiscreteSBM_MultiSigmaVPSDE_I_BPROJ_N_8000_bottleneck_32_firstc_10', 'DiscreteSBM_MultiSigmaVPSDE_I_BPROJ_N_4000_bottleneck_32_firstc_6', 'DiscreteSBM_MultiSigmaVPSDE_I_BPROJ_N_2000_bottleneck_32_firstc_10', 'DiscreteSBM_MultiSigmaVPSDE_I_BPROJ_N_8000_bottleneck_32_firstc_6', 'DiscreteSBM_MultiSigmaVPSDE_I_BPROJ_N_8000_bottleneck_16_firstc_10', 'DiscreteSBM_MultiSigmaVPSDE_I_BPROJ_N_8000_bottleneck_16_firstc_6', 'DiscreteSBM_MultiSigmaVPSDE_I_BPROJ_N_4000_bottleneck_16_firstc_6', 'DiscreteSBM_MultiSigmaVPSDE_I_BPROJ_N_2000_bottleneck_16_firstc_6', 'DiscreteSBM_MultiSigmaVPSDE_I_BPROJ_N_2000_bottleneck_16_firstc_10', 'DiscreteSBM_MultiSigmaVPSDE_I_BPROJ_N_4000_bottleneck_16_firstc_10', 'DiscreteSBM_SigmaVPSDE_I_BPROJ_N_1000_bottleneck_32_firstc_6', 'DiscreteSBM_SigmaVPSDE_I_BPROJ_N_2000_bottleneck_32_firstc_10', 'DiscreteSBM_SigmaVPSDE_I_BPROJ_N_1000_bottleneck_32_firstc_10', 'DiscreteSBM_SigmaVPSDE_I_BPROJ_N_4000_bottleneck_32_firstc_6', 'DiscreteSBM_SigmaVPSDE_I_BPROJ_N_2000_bottleneck_32_firstc_6', 'DiscreteSBM_SigmaVPSDE_I_BPROJ_N_2000_bottleneck_16_firstc_6', 'DiscreteSBM_SigmaVPSDE_I_BPROJ_N_1000_bottleneck_16_firstc_6', 'DiscreteSBM_SigmaVPSDE_I_BPROJ_N_1000_bottleneck_16_firstc_10', 'DiscreteSBM_SigmaVPSDE_I_BPROJ_N_2000_bottleneck_16_firstc_10', 'DiscreteSBM_SigmaVPSDE_I_BPROJ_N_4000_bottleneck_16_firstc_10'])\n"
     ]
    }
   ],
   "source": [
    "ALL_MODELS = os.path.join(os.path.dirname(astroddpm.__file__), 'config', 'MODELS.json')\n",
    "\n",
    "NOISE_LEVEL = 0.8\n",
    "\n",
    "NUM_SAMPLES = 64\n",
    "AVG_PS_OF_NOISE = True ## Averages the power spectrum of added_noise on images\n",
    "\n",
    "with open(ALL_MODELS, 'r') as f:\n",
    "    ALL_MODELS_DICT = json.load(f)\n",
    "print(ALL_MODELS_DICT.keys())"
   ]
  },
  {
   "cell_type": "code",
   "execution_count": 127,
   "metadata": {},
   "outputs": [],
   "source": [
    "device = torch.device(\"cuda\" if torch.cuda.is_available() else \"cpu\")\n",
    "\n",
    "MODEL_ID_1 = 'DiscreteSBM_MultiSigmaVPSDE_I_BPROJ_N_1000_bottleneck_16_firstc_6'\n",
    "MODEL_ID_2 = 'DiscreteSBM_SigmaVPSDE_I_BPROJ_N_1000_bottleneck_16_firstc_6'\n",
    "\n",
    "NUM_SAMPLES = 64"
   ]
  },
  {
   "cell_type": "code",
   "execution_count": 128,
   "metadata": {},
   "outputs": [
    {
     "name": "stdout",
     "output_type": "stream",
     "text": [
      "No model id found\n",
      "Loading the diffuser from a config dict.\n",
      "Loading the optimizer and scheduler states from the checkpoint, as well as previous training info. You should change the model id if you want to finetune the model.\n",
      "No model id found\n",
      "Loading the diffuser from a config dict.\n",
      "Loading the optimizer and scheduler states from the checkpoint, as well as previous training info. You should change the model id if you want to finetune the model.\n"
     ]
    }
   ],
   "source": [
    "placeholder_dm = DiscreteSBM(DiscreteVPSDE(1000), ResUNet())\n",
    "\n",
    "diffuser_1 = Diffuser(placeholder_dm)\n",
    "diffuser_1.load(config=config_from_id(MODEL_ID_1), also_ckpt=True, for_training=True)\n",
    "\n",
    "diffuser_2 = Diffuser(placeholder_dm)\n",
    "diffuser_2.load(config=config_from_id(MODEL_ID_2), also_ckpt=True, for_training=True)"
   ]
  },
  {
   "cell_type": "markdown",
   "metadata": {},
   "source": [
    "### Comparison in generative mode"
   ]
  },
  {
   "cell_type": "code",
   "execution_count": 129,
   "metadata": {},
   "outputs": [
    {
     "data": {
      "text/plain": [
       "tensor([[7.0000e+01, 3.2100e-02]], device='cuda:0')"
      ]
     },
     "execution_count": 129,
     "metadata": {},
     "output_type": "execute_result"
    }
   ],
   "source": [
    "theta_mean = torch.tensor([70,0.0321]).to(device).reshape(1,2)\n",
    "theta_mean"
   ]
  },
  {
   "cell_type": "code",
   "execution_count": 130,
   "metadata": {},
   "outputs": [
    {
     "name": "stderr",
     "output_type": "stream",
     "text": [
      "  3%|▎         | 31/1000 [00:00<00:25, 38.20it/s]"
     ]
    },
    {
     "name": "stderr",
     "output_type": "stream",
     "text": [
      "100%|██████████| 1000/1000 [00:26<00:00, 37.97it/s]\n"
     ]
    }
   ],
   "source": [
    "gen_1 = diffuser_1.diffmodel.generate_image(NUM_SAMPLES, thetas = theta_mean.repeat(NUM_SAMPLES,1))"
   ]
  },
  {
   "cell_type": "code",
   "execution_count": 131,
   "metadata": {},
   "outputs": [
    {
     "name": "stderr",
     "output_type": "stream",
     "text": [
      "  2%|▏         | 15/1000 [00:00<00:25, 39.19it/s]"
     ]
    },
    {
     "name": "stderr",
     "output_type": "stream",
     "text": [
      "100%|██████████| 1000/1000 [00:26<00:00, 37.94it/s]\n"
     ]
    }
   ],
   "source": [
    "gen_2 = diffuser_2.diffmodel.generate_image(NUM_SAMPLES)"
   ]
  },
  {
   "cell_type": "code",
   "execution_count": 132,
   "metadata": {},
   "outputs": [],
   "source": [
    "##\n",
    "## COMPUTTATION OF THE POWER SPECTRUM\n",
    "##\n",
    "\n",
    "max_num_samples = 128\n",
    "\n",
    "## Get elements of the dataset\n",
    "dataset = diffuser_1.train_dataloader.dataset\n",
    "shape = dataset[0].shape\n",
    "if len(shape) == 3:\n",
    "    datapoints = torch.cat([dataset[i].reshape(1,-1,shape[1], shape[2]) for i in range(min(len(dataset), max_num_samples))]).to(device)\n",
    "elif len(shape) == 2:\n",
    "    datapoints = torch.cat([dataset[i].reshape(1,1,shape[0], shape[1]) for i in range(min(len(dataset), max_num_samples))]).to(device)\n",
    "else:\n",
    "    datapoints = torch.cat([dataset[i] for i in range(min(len(dataset), max_num_samples))]).to(device)\n",
    "\n",
    "## Compute power spectrum\n",
    "bins = torch.linspace(0, np.pi, 100).to(device)\n",
    "\n",
    "bins_centers = (bins[:-1] + bins[1:])/2\n",
    "bins_centers = bins_centers.cpu()\n",
    "mean_list = []\n",
    "std_list = []\n",
    "power_spectra_list = []\n",
    "for data in [gen_1, gen_2, datapoints]:\n",
    "    power_spectra_, mean_, std_ , bins = powerSpectrum.set_power_spectrum_iso2d(data.to(device), bins, use_gpu=True, only_stat=False)\n",
    "    mean_list.append(mean_)\n",
    "    std_list.append(std_)\n",
    "    power_spectra_list.append(power_spectra_)\n",
    "\n",
    "mean_list = [mean.cpu().numpy() for mean in mean_list]\n",
    "std_list = [std.cpu().numpy() for std in std_list]"
   ]
  },
  {
   "cell_type": "code",
   "execution_count": 133,
   "metadata": {},
   "outputs": [],
   "source": [
    "ps_bins = bins_centers.cpu()\n",
    "ps_orig = mean_list[2][:-1]\n",
    "ps_orig_std = std_list[2][:-1]\n",
    "ps_multi = mean_list[0][:-1]\n",
    "ps_multi_std = std_list[0][:-1]\n",
    "ps_mono = mean_list[1][:-1]\n",
    "ps_mono_std = std_list[1][:-1]"
   ]
  },
  {
   "cell_type": "code",
   "execution_count": 134,
   "metadata": {},
   "outputs": [
    {
     "data": {
      "text/plain": [
       "torch.Size([64, 100])"
      ]
     },
     "execution_count": 134,
     "metadata": {},
     "output_type": "execute_result"
    }
   ],
   "source": [
    "power_spectra_list[0].shape"
   ]
  },
  {
   "cell_type": "code",
   "execution_count": 135,
   "metadata": {},
   "outputs": [],
   "source": [
    "wasserstein_mono_to_data = np.zeros((100,))\n",
    "wasserstein_multi_to_data = np.zeros((100,))"
   ]
  },
  {
   "cell_type": "code",
   "execution_count": 136,
   "metadata": {},
   "outputs": [
    {
     "data": {
      "text/plain": [
       "torch.Size([64, 100])"
      ]
     },
     "execution_count": 136,
     "metadata": {},
     "output_type": "execute_result"
    }
   ],
   "source": [
    "power_spectra_list[0].shape"
   ]
  },
  {
   "cell_type": "code",
   "execution_count": 137,
   "metadata": {},
   "outputs": [],
   "source": [
    "for i in range(100):\n",
    "    wasserstein_mono_to_data[i] = wasserstein_distance(torch.log(power_spectra_list[1][:,i]).cpu(), torch.log(power_spectra_list[2][i]).cpu())\n",
    "    wasserstein_multi_to_data[i] = wasserstein_distance(torch.log(power_spectra_list[0][:,i]).cpu(), torch.log(power_spectra_list[2][i]).cpu())"
   ]
  },
  {
   "cell_type": "code",
   "execution_count": 138,
   "metadata": {},
   "outputs": [],
   "source": [
    "def running_mean(x, N):\n",
    "    return np.convolve(x, np.ones((N,))/N, mode='valid')"
   ]
  },
  {
   "cell_type": "code",
   "execution_count": 144,
   "metadata": {},
   "outputs": [],
   "source": [
    "bins_comp = running_mean(bins.cpu(), 10)"
   ]
  },
  {
   "cell_type": "code",
   "execution_count": 145,
   "metadata": {},
   "outputs": [
    {
     "data": {
      "image/png": "[encoded data removed]",
      "text/plain": [
       "<Figure size 640x480 with 1 Axes>"
      ]
     },
     "metadata": {},
     "output_type": "display_data"
    }
   ],
   "source": [
    "plt.plot(bins_comp,running_mean(wasserstein_mono_to_data,10), label='SCM')\n",
    "plt.plot(bins_comp,running_mean(wasserstein_multi_to_data,10), label='MCM')\n",
    "plt.xlabel(r'$k$')\n",
    "plt.ylabel(r'$W_1$')\n",
    "plt.xscale('log')\n",
    "plt.legend()\n",
    "plt.savefig('figs/wasserstein_SCM_MCM.pdf', bbox_inches='tight')"
   ]
  },
  {
   "cell_type": "code",
   "execution_count": 141,
   "metadata": {},
   "outputs": [
    {
     "data": {
      "text/plain": [
       "(4.65038246758245, 4.611968078064174)"
      ]
     },
     "execution_count": 141,
     "metadata": {},
     "output_type": "execute_result"
    }
   ],
   "source": [
    "wasserstein_mono_to_data.mean(), wasserstein_multi_to_data.mean()"
   ]
  },
  {
   "cell_type": "code",
   "execution_count": 142,
   "metadata": {},
   "outputs": [
    {
     "data": {
      "text/plain": [
       "<matplotlib.legend.Legend at 0x1551c3019e20>"
      ]
     },
     "execution_count": 142,
     "metadata": {},
     "output_type": "execute_result"
    },
    {
     "data": {
      "image/png": "[encoded data removed]",
      "text/plain": [
       "<Figure size 900x600 with 1 Axes>"
      ]
     },
     "metadata": {},
     "output_type": "display_data"
    }
   ],
   "source": [
    "fig, axs = plt.subplots(1, 1, figsize=(9, 6))\n",
    "\n",
    "axs.plot(ps_bins, ps_orig, label='Data', color='C0')\n",
    "#axs.fill_between(ps_bins, ps_orig-ps_orig_std, ps_orig+ps_orig_std, alpha=0.5, color='C0')\n",
    "\n",
    "axs.plot(ps_bins, ps_mono, label='Mono noise', color='C1')\n",
    "#axs.fill_between(ps_bins, ps_mono-ps_mono_std, ps_mono+ps_mono_std, alpha=0.5, color='C1')\n",
    "\n",
    "axs.plot(ps_bins, ps_multi, label='Multi noise', color='C2')\n",
    "#axs.fill_between(ps_bins, ps_multi-ps_multi_std, ps_multi+ps_multi_std, alpha=0.5, color='C2')\n",
    "\n",
    "axs.set_yscale('log')\n",
    "axs.set_xscale('log')\n",
    "\n",
    "axs.set_xlabel(r'$k$')\n",
    "axs.set_ylabel(r'$P(k)$')\n",
    "\n",
    "axs.legend()"
   ]
  },
  {
   "cell_type": "markdown",
   "metadata": {},
   "source": [
    "### Comparison in denoising"
   ]
  },
  {
   "cell_type": "markdown",
   "metadata": {},
   "source": []
  },
  {
   "cell_type": "markdown",
   "metadata": {},
   "source": [
    "### Comparison of robustness or lack thereof"
   ]
  },
  {
   "cell_type": "markdown",
   "metadata": {},
   "source": []
  }
 ],
 "metadata": {
  "kernelspec": {
   "display_name": "genv_DL",
   "language": "python",
   "name": "python3"
  },
  "language_info": {
   "codemirror_mode": {
    "name": "ipython",
    "version": 3
   },
   "file_extension": ".py",
   "mimetype": "text/x-python",
   "name": "python",
   "nbconvert_exporter": "python",
   "pygments_lexer": "ipython3",
   "version": "3.9.16"
  },
  "orig_nbformat": 4
 },
 "nbformat": 4,
 "nbformat_minor": 2
}
