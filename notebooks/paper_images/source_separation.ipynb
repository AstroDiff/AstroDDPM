{
 "cells": [
  {
   "cell_type": "code",
   "execution_count": 1,
   "metadata": {},
   "outputs": [],
   "source": [
    "## Standard imports\n",
    "import numpy as np\n",
    "import matplotlib as mpl\n",
    "import matplotlib.pyplot as plt\n",
    "import matplotlib.ticker as ticker\n",
    "import os\n",
    "import json\n",
    "import torch\n",
    "import astroddpm\n",
    "import tqdm.notebook as tqdm\n",
    "\n",
    "## Relative imports\n",
    "from astroddpm.runners import Diffuser, config_from_id, get_samples\n",
    "from astroddpm.analysis.validationMetrics import powerSpectrum, minkowskiFunctional, basics\n",
    "from quantimpy import morphology as mp\n",
    "from quantimpy import minkowski as mk\n",
    "from astroddpm.analysis import overfitting_check\n",
    "from astroddpm.utils.plot import check_nearest_epoch, plot_losses, check_training_samples, plot_comparaison\n",
    "from astroddpm.diffusion.dm import DiscreteSBM\n",
    "from astroddpm.diffusion.stochastic.sde import DiscreteVPSDE\n",
    "from astroddpm.diffusion.models.network import ResUNet\n",
    "import astroddpm.utils.colormap_custom "
   ]
  },
  {
   "cell_type": "code",
   "execution_count": 2,
   "metadata": {},
   "outputs": [],
   "source": [
    "save_fig = True\n",
    "\n",
    "params = {'text.usetex': True,\n",
    "         'text.latex.preamble': r'\\usepackage{amsmath}',\n",
    "         \"font.family\": \"serif\", \"font.serif\": [\"Computer Modern Roman\"],\n",
    "         'font.size': 12,\n",
    "         'image.interpolation': 'none'}\n",
    "plt.rcParams.update(params)"
   ]
  },
  {
   "cell_type": "code",
   "execution_count": 10,
   "metadata": {},
   "outputs": [],
   "source": [
    "device = torch.device(\"cuda\" if torch.cuda.is_available() else \"cpu\")\n",
    "\n",
    "MODEL_ID = 'DiscreteSBM_MultiSigmaVPSDE_I_BPROJ_N_1000_bottleneck_16_firstc_6'"
   ]
  },
  {
   "cell_type": "code",
   "execution_count": 11,
   "metadata": {},
   "outputs": [
    {
     "name": "stdout",
     "output_type": "stream",
     "text": [
      "No model id found\n",
      "Loading the diffuser from a config dict.\n",
      "Loading the optimizer and scheduler states from the checkpoint, as well as previous training info. You should change the model id if you want to finetune the model.\n"
     ]
    }
   ],
   "source": [
    "placeholder_dm = DiscreteSBM(DiscreteVPSDE(1000), ResUNet())\n",
    "\n",
    "diffuser= Diffuser(placeholder_dm)\n",
    "diffuser.load(config=config_from_id(MODEL_ID), also_ckpt=True, for_training=True)"
   ]
  },
  {
   "cell_type": "code",
   "execution_count": 24,
   "metadata": {},
   "outputs": [],
   "source": [
    "if diffuser.diffmodel.has_thetas:\n",
    "    theta_mean = diffuser.diffmodel.ps.sample_theta(10000).mean(dim=0, keepdim=True).to(device)\n",
    "    theta_mean"
   ]
  },
  {
   "cell_type": "code",
   "execution_count": 25,
   "metadata": {},
   "outputs": [
    {
     "data": {
      "text/plain": [
       "torch.Size([1, 1, 256, 256])"
      ]
     },
     "execution_count": 25,
     "metadata": {},
     "output_type": "execute_result"
    }
   ],
   "source": [
    "image = diffuser.test_dataloader.dataset[0].unsqueeze(0).unsqueeze(1).to(device)\n",
    "image.shape"
   ]
  },
  {
   "cell_type": "code",
   "execution_count": 26,
   "metadata": {},
   "outputs": [],
   "source": [
    "NUM_SAMPLES = 64\n",
    "NOISE_LEVEL = 0.1"
   ]
  },
  {
   "cell_type": "code",
   "execution_count": 27,
   "metadata": {},
   "outputs": [],
   "source": [
    "all_timesteps = torch.tensor(range(diffuser.diffmodel.sde.N))\n",
    "all_noise_levels = diffuser.diffmodel.sde.noise_level(all_timesteps).reshape(-1)"
   ]
  },
  {
   "cell_type": "code",
   "execution_count": 28,
   "metadata": {},
   "outputs": [],
   "source": [
    "closest_timestep = torch.argmin(torch.abs(all_noise_levels - NOISE_LEVEL))"
   ]
  },
  {
   "cell_type": "code",
   "execution_count": 29,
   "metadata": {},
   "outputs": [
    {
     "data": {
      "text/plain": [
       "(tensor(26, device='cuda:0'), tensor([0.1000], device='cuda:0'))"
      ]
     },
     "execution_count": 29,
     "metadata": {},
     "output_type": "execute_result"
    }
   ],
   "source": [
    "closest_timestep, diffuser.diffmodel.sde.noise_level(closest_timestep).reshape(-1)"
   ]
  },
  {
   "cell_type": "markdown",
   "metadata": {},
   "source": [
    "### No dependence on $\\phi$"
   ]
  },
  {
   "cell_type": "code",
   "execution_count": null,
   "metadata": {},
   "outputs": [],
   "source": []
  },
  {
   "cell_type": "markdown",
   "metadata": {},
   "source": [
    "### Depend on $\\phi$"
   ]
  },
  {
   "cell_type": "markdown",
   "metadata": {},
   "source": []
  }
 ],
 "metadata": {
  "kernelspec": {
   "display_name": "genv_DL",
   "language": "python",
   "name": "python3"
  },
  "language_info": {
   "codemirror_mode": {
    "name": "ipython",
    "version": 3
   },
   "file_extension": ".py",
   "mimetype": "text/x-python",
   "name": "python",
   "nbconvert_exporter": "python",
   "pygments_lexer": "ipython3",
   "version": "3.9.16"
  },
  "orig_nbformat": 4
 },
 "nbformat": 4,
 "nbformat_minor": 2
}
