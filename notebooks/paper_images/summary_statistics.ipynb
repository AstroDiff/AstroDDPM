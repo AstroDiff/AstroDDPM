{
 "cells": [
  {
   "cell_type": "code",
   "execution_count": null,
   "metadata": {},
   "outputs": [],
   "source": [
    "## Standard imports\n",
    "import numpy as np\n",
    "import matplotlib.pyplot as plt\n",
    "import matplotlib.ticker as ticker\n",
    "import os\n",
    "import json\n",
    "import torch\n",
    "import astroddpm\n",
    "import tqdm.notebook as tqdm\n",
    "from quantimpy import morphology as mp\n",
    "from quantimpy import minkowski as mk\n",
    "\n",
    "## Relative imports\n",
    "from astroddpm.runners import Diffuser, config_from_id, get_samples\n",
    "from astroddpm.analysis.validationMetrics import powerSpectrum, minkowskiFunctional, basics\n",
    "from astroddpm.analysis import overfitting_check\n",
    "from astroddpm.utils.plot import check_nearest_epoch, plot_losses, check_training_samples, plot_comparaison\n",
    "from astroddpm.diffusion.dm import DiscreteSBM\n",
    "from astroddpm.diffusion.stochastic.sde import DiscreteVPSDE\n",
    "from astroddpm.diffusion.models.network import ResUNet\n",
    "import astroddpm.utils.colormap_custom "
   ]
  },
  {
   "cell_type": "code",
   "execution_count": null,
   "metadata": {},
   "outputs": [],
   "source": [
    "save_fig = True\n",
    "\n",
    "params = {'text.usetex': True,\n",
    "         'text.latex.preamble': r'\\usepackage{amsmath}',\n",
    "         \"font.family\": \"serif\", \"font.serif\": [\"Computer Modern Roman\"],\n",
    "         'font.size': 12,\n",
    "         'image.interpolation': 'none'}\n",
    "plt.rcParams.update(params)"
   ]
  },
  {
   "cell_type": "code",
   "execution_count": null,
   "metadata": {},
   "outputs": [],
   "source": [
    "ALL_MODELS = os.path.join(os.path.dirname(astroddpm.__file__), 'config', 'MODELS.json')\n",
    "\n",
    "with open(ALL_MODELS, 'r') as f:\n",
    "    ALL_MODELS_DICT = json.load(f)\n",
    "print(ALL_MODELS_DICT.keys())"
   ]
  },
  {
   "cell_type": "code",
   "execution_count": null,
   "metadata": {},
   "outputs": [],
   "source": [
    "device = torch.device(\"cuda\" if torch.cuda.is_available() else \"cpu\")\n",
    "\n",
    "MODEL_ID = 'DiscreteSBM_MultiSigmaVPSDE_MHD_BPROJ_N_1000_bottleneck_32_firstc_20_invsqrt'"
   ]
  },
  {
   "cell_type": "code",
   "execution_count": null,
   "metadata": {},
   "outputs": [],
   "source": [
    "placeholder_dm = DiscreteSBM(DiscreteVPSDE(1000), ResUNet())\n",
    "diffuser = Diffuser(placeholder_dm)\n",
    "diffuser.load(config=config_from_id(MODEL_ID), also_ckpt=True, for_training=True)"
   ]
  },
  {
   "attachments": {},
   "cell_type": "markdown",
   "metadata": {},
   "source": [
    "## Summary statistics"
   ]
  },
  {
   "attachments": {},
   "cell_type": "markdown",
   "metadata": {},
   "source": [
    "### Power Spectrum"
   ]
  },
  {
   "cell_type": "code",
   "execution_count": null,
   "metadata": {},
   "outputs": [],
   "source": [
    "##\n",
    "## COMPUTTATION OF THE POWER SPECTRUM\n",
    "##\n",
    "\n",
    "max_num_samples = 128\n",
    "\n",
    "## Get results from the sample_dir corresponding to the diffuser\n",
    "samples = torch.from_numpy(get_samples(diffuser))\n",
    "if len(samples.shape) == 3:\n",
    "    samples = samples.unsqueeze(1).to(device)\n",
    "label_samp = diffuser.config[\"model_id\"]\n",
    "try:\n",
    "    label_dataset = diffuser.config[\"dataloaders\"][\"dataset\"][\"name\"]\n",
    "except:\n",
    "    label_dataset = \"Dataset\"\n",
    "## Get elements of the dataset\n",
    "dataset = diffuser.train_dataloader.dataset\n",
    "shape = dataset[0].shape\n",
    "if len(shape) == 3:\n",
    "    datapoints = torch.cat([dataset[i].reshape(1,-1,shape[1], shape[2]) for i in range(min(len(dataset), max_num_samples))]).to(device)\n",
    "elif len(shape) == 2:\n",
    "    datapoints = torch.cat([dataset[i].reshape(1,1,shape[0], shape[1]) for i in range(min(len(dataset), max_num_samples))]).to(device)\n",
    "else:\n",
    "    datapoints = torch.cat([dataset[i] for i in range(min(len(dataset), max_num_samples))]).to(device)\n",
    "\n",
    "## Compute power spectrum\n",
    "bins = torch.linspace(0, np.pi, 100).to(device)\n",
    "\n",
    "bins_centers = (bins[:-1] + bins[1:])/2\n",
    "bins_centers = bins_centers.cpu()\n",
    "mean_list = []\n",
    "std_list = []\n",
    "for data in [samples, datapoints]:\n",
    "    mean_, std_ , bins = powerSpectrum.set_power_spectrum_iso2d(data.to(device), bins, use_gpu=True)\n",
    "    mean_list.append(mean_)\n",
    "    std_list.append(std_)\n",
    "\n",
    "mean_list = [mean.cpu().numpy() for mean in mean_list]\n",
    "std_list = [std.cpu().numpy() for std in std_list]"
   ]
  },
  {
   "cell_type": "code",
   "execution_count": null,
   "metadata": {},
   "outputs": [],
   "source": [
    "ps_bins = bins_centers.cpu()\n",
    "ps_orig = mean_list[0][:-1]\n",
    "ps_orig_std = std_list[0][:-1]\n",
    "ps_samples = mean_list[1][:-1]\n",
    "ps_samples_std = std_list[1][:-1]"
   ]
  },
  {
   "attachments": {},
   "cell_type": "markdown",
   "metadata": {},
   "source": [
    "### Minkowski functionnals"
   ]
  },
  {
   "cell_type": "code",
   "execution_count": null,
   "metadata": {},
   "outputs": [],
   "source": [
    "samples = basics.get_samples(diffuser)\n",
    "l_samples = np.split(samples, len(samples), axis=0)\n",
    "l_samples = [l_samples[i][0][0] for i in range(len(l_samples))]\n",
    "\n",
    "dataset = diffuser.train_dataloader.dataset\n",
    "\n",
    "num_dataset_samples = 128\n",
    "\n",
    "l_dataset = [dataset[i].numpy().copy(order = 'C') for i in range(num_dataset_samples)]\n",
    "\n",
    "range_min = -6\n",
    "\n",
    "range_max = 6\n",
    "\n",
    "gs_vals = np.linspace(range_min, range_max, 200)\n",
    "\n",
    "sampwise_minkmean  = []\n",
    "sampwise_minkstd = []\n",
    "for samp in [l_dataset,l_samples]:\n",
    "    samp_minks = []\n",
    "    for isa in range(len(samp)):#each image\n",
    "        image = samp[isa]\n",
    "        gs_masks = [image>=gs_vals[ig] for ig in range(len(gs_vals))]\n",
    "        minkowski = []\n",
    "        for i in range(len(gs_masks)):\n",
    "            minkowski.append(mk.functionals(gs_masks[i], norm=True))\n",
    "        minkowski = np.vstack(minkowski) #N_alphax3\n",
    "        samp_minks.append(minkowski)\n",
    "    samp_minks = np.stack(samp_minks) #NsampxN_alphax3\n",
    "    sampwise_minkmean.append(samp_minks.mean(0))\n",
    "    sampwise_minkstd.append(np.std(samp_minks, axis=0, ddof=1))"
   ]
  },
  {
   "cell_type": "code",
   "execution_count": null,
   "metadata": {},
   "outputs": [],
   "source": [
    "mink_x = gs_vals\n",
    "mink_orig_mean = sampwise_minkmean[0]\n",
    "mink_orig_std = sampwise_minkstd[0]\n",
    "mink_samples_mean = sampwise_minkmean[1]\n",
    "mink_samples_std = sampwise_minkstd[1]"
   ]
  },
  {
   "attachments": {},
   "cell_type": "markdown",
   "metadata": {},
   "source": [
    "### Plot"
   ]
  },
  {
   "cell_type": "code",
   "execution_count": null,
   "metadata": {},
   "outputs": [],
   "source": [
    "fig, axs = plt.subplots(2, 2, figsize=(9, 6))\n",
    "\n",
    "axs[0,0].plot(ps_bins, ps_orig, label='Original', color='C0')\n",
    "axs[0,0].fill_between(ps_bins, ps_orig-ps_orig_std, ps_orig+ps_orig_std, alpha=0.2, color='C0')\n",
    "axs[0,0].plot(ps_bins, ps_samples, label='Samples', color='C1')\n",
    "axs[0,0].fill_between(ps_bins, ps_samples-ps_samples_std, ps_samples+ps_samples_std, alpha=0.2, color='C1')\n",
    "\n",
    "axs[0,0].set_xlabel(r'$k$')\n",
    "axs[0,0].set_ylabel(r'$P(k)$')\n",
    "axs[0,0].set_xscale('log')\n",
    "axs[0,0].set_yscale('log')\n",
    "axs[0,0].legend()\n",
    "\n",
    "pow_factors = [None, 3, 4] # Renormalization of the Minkowski functionals for better visualization\n",
    "\n",
    "for i in range(3):\n",
    "    row = (i + 1)//2\n",
    "    col = (i + 1)%2\n",
    "\n",
    "    fac = pow_factors[i]\n",
    "    label_renorm = ''\n",
    "    if fac is None:\n",
    "        fac = 1\n",
    "    else:\n",
    "        fac = 10 ** fac\n",
    "        label_renorm = f'  ${{\\\\scriptstyle (\\\\times 10^{{{pow_factors[i]}}})}}$'\n",
    "\n",
    "    axs[row, col].plot(mink_x, mink_orig_mean[:,i]*fac, color='C0')\n",
    "    axs[row, col].fill_between(mink_x, (mink_orig_mean[:,i]-mink_orig_std[:,i])*fac, (mink_orig_mean[:,i]+mink_orig_std[:,i])*fac, alpha=0.2, color='C0')\n",
    "    axs[row, col].plot(mink_x, mink_samples_mean[:,i]*fac, color='C1')\n",
    "    axs[row, col].fill_between(mink_x, (mink_samples_mean[:,i]-mink_samples_std[:,i])*fac, (mink_samples_mean[:,i]+mink_samples_std[:,i])*fac, alpha=0.2, color='C1')\n",
    "\n",
    "    axs[row, col].set_xlabel(r'$\\alpha$')\n",
    "    axs[row, col].set_ylabel(f'$\\\\mathcal{{M}}_{i}(\\\\alpha)$' + label_renorm)\n",
    "\n",
    "plt.tight_layout()\n",
    "if save_fig:\n",
    "    plt.savefig('figs/stats_variant.pdf')\n",
    "plt.show()"
   ]
  },
  {
   "cell_type": "code",
   "execution_count": null,
   "metadata": {},
   "outputs": [],
   "source": [
    "fig, axs = plt.subplots(2, 2, figsize=(10, 6))\n",
    "\n",
    "subfig = fig.subfigures(1, 2, wspace=0.0)\n",
    "\n",
    "ax_left = subfig[0].subplots(3, 1, height_ratios=[0.1, 0.8, 0.1])\n",
    "\n",
    "ax_left[1].plot(ps_bins, ps_orig, label='Original', color='C0')\n",
    "ax_left[1].fill_between(ps_bins, ps_orig-ps_orig_std, ps_orig+ps_orig_std, alpha=0.2, color='C0')\n",
    "ax_left[1].plot(ps_bins, ps_samples, label='Samples', color='C1')\n",
    "ax_left[1].fill_between(ps_bins, ps_samples-ps_samples_std, ps_samples+ps_samples_std, alpha=0.2, color='C1')\n",
    "\n",
    "ax_left[1].set_xlabel(r'$k$')\n",
    "ax_left[1].set_ylabel(r'$P(k)$')\n",
    "ax_left[1].set_xscale('log')\n",
    "ax_left[1].set_yscale('log')\n",
    "ax_left[1].legend()\n",
    "\n",
    "# Disable other axes\n",
    "ax_left[0].axis('off')\n",
    "ax_left[2].axis('off')\n",
    "\n",
    "ax_right = subfig[1].subplots(3, 1, sharex=True)\n",
    "\n",
    "pow_factors = [None, 3, 4] # Renormalization of the Minkowski functionals for better visualization\n",
    "\n",
    "for i in range(3):\n",
    "    fac = pow_factors[i]\n",
    "    label_renorm = ''\n",
    "    if fac is None:\n",
    "        fac = 1\n",
    "    else:\n",
    "        fac = 10 ** fac\n",
    "        label_renorm = f'  ${{\\\\scriptstyle (\\\\times 10^{{{pow_factors[i]}}})}}$'\n",
    "\n",
    "    ax_right[i].plot(mink_x, mink_orig_mean[:,i]*fac, color='C0')\n",
    "    ax_right[i].fill_between(mink_x, (mink_orig_mean[:,i]-mink_orig_std[:,i])*fac, (mink_orig_mean[:,i]+mink_orig_std[:,i])*fac, alpha=0.2, color='C0')\n",
    "    ax_right[i].plot(mink_x, mink_samples_mean[:,i]*fac, color='C1')\n",
    "    ax_right[i].fill_between(mink_x, (mink_samples_mean[:,i]-mink_samples_std[:,i])*fac, (mink_samples_mean[:,i]+mink_samples_std[:,i])*fac, alpha=0.2, color='C1')\n",
    "\n",
    "    ax_right[i].tick_params(axis=\"x\",direction=\"inout\")\n",
    "\n",
    "    ax_right[i].set_ylabel(f'$\\\\mathcal{{M}}_{i}(\\\\alpha)$' + label_renorm)\n",
    "ax_right[2].set_xlabel(r'$\\alpha$')\n",
    "\n",
    "plt.subplots_adjust(wspace=0.0, hspace=0.0)\n",
    "if save_fig:\n",
    "    plt.savefig('figs/stats.pdf', bbox_inches='tight')\n",
    "plt.show()"
   ]
  }
 ],
 "metadata": {
  "kernelspec": {
   "display_name": "Python 3 (ipykernel)",
   "language": "python",
   "name": "python3"
  },
  "language_info": {
   "codemirror_mode": {
    "name": "ipython",
    "version": 3
   },
   "file_extension": ".py",
   "mimetype": "text/x-python",
   "name": "python",
   "nbconvert_exporter": "python",
   "pygments_lexer": "ipython3",
   "version": "3.10.10"
  }
 },
 "nbformat": 4,
 "nbformat_minor": 4
}
