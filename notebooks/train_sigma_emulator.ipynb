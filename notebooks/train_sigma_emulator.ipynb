{
 "cells": [
  {
   "cell_type": "code",
   "execution_count": 59,
   "metadata": {},
   "outputs": [],
   "source": [
    "import torch\n",
    "import numpy as np\n",
    "import matplotlib.pyplot as plt\n",
    "\n",
    "from torch import nn\n",
    "from torch import optim\n",
    "from torch.nn import functional as F\n",
    "from torch.utils.data import Dataset, DataLoader\n",
    "import os\n",
    "import glob\n",
    "from tqdm.notebook import tqdm\n",
    "\n",
    "from astroddpm.utils.scheduler import InverseSquareRootScheduler, InversePowerLawScheduler, StepScheduler"
   ]
  },
  {
   "cell_type": "code",
   "execution_count": 60,
   "metadata": {},
   "outputs": [],
   "source": [
    "DATA_FOLDER = '/mnt/home/dheurtel/ceph/01_data/'\n",
    "\n",
    "DATA_DIR = 'CMB_PS_DIAG_H_ombh2'"
   ]
  },
  {
   "cell_type": "code",
   "execution_count": 61,
   "metadata": {},
   "outputs": [],
   "source": [
    "device = torch.device(\"cuda\" if torch.cuda.is_available() else \"cpu\")"
   ]
  },
  {
   "cell_type": "code",
   "execution_count": 62,
   "metadata": {},
   "outputs": [],
   "source": [
    "## Create a custom torch dataset that loads pairs of npy files (sample and theta) from a directory\n",
    "class NpyDataset(Dataset):\n",
    "    def __init__(self, root_dir, transform=None, split = 0.1, seed = 1337, train = True):\n",
    "        self.root_dir = root_dir\n",
    "        self.transform = transform\n",
    "        self.samples = glob.glob(os.path.join(self.root_dir, 'sample_*.npy'))\n",
    "        self.thetas = glob.glob(os.path.join(self.root_dir, 'theta_*.npy'))\n",
    "        self.samples.sort()\n",
    "        self.thetas.sort()\n",
    "        self.samples = self.samples[:630]\n",
    "        self.thetas = self.thetas[:630]\n",
    "        if train:\n",
    "            np.random.seed(seed)\n",
    "            np.random.shuffle(self.samples)\n",
    "            np.random.seed(seed)\n",
    "            np.random.shuffle(self.thetas)\n",
    "            self.samples = self.samples[:int(len(self.samples)*(1-split))]\n",
    "            self.thetas = self.thetas[:int(len(self.thetas)*(1-split))]\n",
    "        else:\n",
    "            np.random.seed(seed)\n",
    "            np.random.shuffle(self.samples)\n",
    "            np.random.seed(seed)\n",
    "            np.random.shuffle(self.thetas)\n",
    "            self.samples = self.samples[int(len(self.samples)*(1-split)):]\n",
    "            self.thetas = self.thetas[int(len(self.thetas)*(1-split)):]\n",
    "        self.length = len(self.samples)\n",
    "        \n",
    "    def __len__(self):\n",
    "        return self.length\n",
    "    \n",
    "    def __getitem__(self, idx):\n",
    "        sample = torch.from_numpy(np.load(self.samples[idx], allow_pickle=True).astype(np.float32))\n",
    "        theta = torch.from_numpy(np.load(self.thetas[idx], allow_pickle=True).astype(np.float32))\n",
    "        theta = (theta - torch.tensor([70, 32e-3]))/torch.tensor([20,25e-3])\n",
    "        if self.transform:\n",
    "            sample = self.transform(sample)\n",
    "            theta = self.transform(theta)\n",
    "        return sample, theta\n",
    "\n",
    "def make_dataset(root_dir, transform=None, split = 0.1, seed = 1337):\n",
    "    return NpyDataset(root_dir, transform, split, seed, True), NpyDataset(root_dir, transform, split, seed, False)"
   ]
  },
  {
   "cell_type": "code",
   "execution_count": 63,
   "metadata": {},
   "outputs": [],
   "source": [
    "train_dataset, test_dataset = make_dataset(os.path.join(DATA_FOLDER, DATA_DIR))\n",
    "train_dataloader = DataLoader(train_dataset, batch_size=64, shuffle=True, drop_last=True)\n",
    "test_dataloader = DataLoader(test_dataset, batch_size=64, shuffle=True)"
   ]
  },
  {
   "cell_type": "code",
   "execution_count": 64,
   "metadata": {},
   "outputs": [],
   "source": [
    "## Create a simple MLP to emulate Sigma(theta)\n",
    "class MLP(nn.Module):\n",
    "    def __init__(self, input_size, hidden_size, output_size, n_hidden_layers=1):\n",
    "        super().__init__()\n",
    "        self.input_size = input_size\n",
    "        self.hidden_size = hidden_size\n",
    "        self.output_size = output_size\n",
    "        self.n_hidden_layers = n_hidden_layers\n",
    "\n",
    "        self.layers = nn.ModuleList()\n",
    "        self.layers.append(nn.Linear(input_size, hidden_size))\n",
    "        for i in range(n_hidden_layers):\n",
    "            self.layers.append(nn.Linear(hidden_size, hidden_size))\n",
    "        self.layers.append(nn.Linear(hidden_size, output_size))\n",
    "\n",
    "    def forward(self, x):\n",
    "        for i in range(self.n_hidden_layers + 1):\n",
    "            x = self.layers[i](x)\n",
    "            x = F.relu(x)\n",
    "        x = self.layers[-1](x)\n",
    "        return x"
   ]
  },
  {
   "cell_type": "code",
   "execution_count": 65,
   "metadata": {},
   "outputs": [],
   "source": [
    "emulator = MLP(2, 100, 128, 2).to(device)"
   ]
  },
  {
   "cell_type": "code",
   "execution_count": null,
   "metadata": {},
   "outputs": [],
   "source": [
    "optimizer = torch.optim.AdamW(emulator.parameters(), lr=0.01, weight_decay=0.01)\n",
    "scheduler = StepScheduler(optimizer, 50, 0.05, step_period=200)\n",
    "loss_fn = torch.nn.MSELoss()\n"
   ]
  },
  {
   "cell_type": "code",
   "execution_count": 78,
   "metadata": {},
   "outputs": [
    {
     "data": {
      "application/vnd.jupyter.widget-view+json": {
       "model_id": "50c8aa57c01d489982a739d591770882",
       "version_major": 2,
       "version_minor": 0
      },
      "text/plain": [
       "  0%|          | 0/1000 [00:00<?, ?it/s]"
      ]
     },
     "metadata": {},
     "output_type": "display_data"
    }
   ],
   "source": [
    "# Train the emulator\n",
    "num_epochs = 1000\n",
    "emulator.train()\n",
    "progress_bar = tqdm(range(num_epochs))\n",
    "running_mean_test_loss = 0.1\n",
    "for epoch in range(num_epochs):\n",
    "    train_loss = 0\n",
    "    for _, batch in enumerate(train_dataloader):\n",
    "        optimizer.zero_grad()\n",
    "        output = emulator(batch[1].to(device))\n",
    "        loss = loss_fn(output, batch[0].to(device))\n",
    "        loss.backward()\n",
    "        train_loss += loss.item()*len(batch[0])\n",
    "        optimizer.step()\n",
    "    train_loss /= len(train_dataset)\n",
    "    test_loss = 0\n",
    "    with torch.no_grad():\n",
    "        for _, batch in enumerate(test_dataloader):\n",
    "            output = emulator(batch[1].to(device))\n",
    "            loss = loss_fn(output, batch[0].to(device))\n",
    "            test_loss += loss.item()*len(batch[0])\n",
    "    scheduler.step()\n",
    "    test_loss /= len(test_dataset)\n",
    "    running_mean_test_loss = 0.9*running_mean_test_loss + 0.1*test_loss\n",
    "    progress_bar.set_description(f\"Epoch {epoch+1} | Train loss: {train_loss:.6f}| Running mean test loss: {running_mean_test_loss:.6f}\")\n",
    "    progress_bar.update(1)"
   ]
  },
  {
   "cell_type": "code",
   "execution_count": 96,
   "metadata": {},
   "outputs": [],
   "source": [
    "def in_support(tensor):\n",
    "    \"\"\"Returns True if tensor is in support of the emulator.\"\"\"\n",
    "    return torch.logical_and(torch.logical_and(tensor[:,0] >= -1 ,tensor[:,0] <= 1) , torch.logical_and(tensor[:,1] >= -1 ,tensor[:,1] <= 1))"
   ]
  },
  {
   "cell_type": "code",
   "execution_count": 108,
   "metadata": {},
   "outputs": [],
   "source": [
    "test_batch = next(iter(test_dataloader))\n",
    "\n",
    "thetas_in_support = in_support(test_batch[1])\n",
    "\n",
    "input = test_batch[1][thetas_in_support].to(device)\n",
    "sigma_ps_hat = emulator(input)"
   ]
  },
  {
   "cell_type": "code",
   "execution_count": 109,
   "metadata": {},
   "outputs": [],
   "source": [
    "train_batch = next(iter(train_dataloader))\n",
    "input_train = train_batch[1].to(device)\n",
    "\n",
    "sigma_train_hat = emulator(input_train)"
   ]
  },
  {
   "cell_type": "code",
   "execution_count": 110,
   "metadata": {},
   "outputs": [],
   "source": [
    "loss = (sigma_ps_hat - test_batch[0][thetas_in_support].to(device)).square().mean(dim = 1)"
   ]
  },
  {
   "cell_type": "code",
   "execution_count": 113,
   "metadata": {},
   "outputs": [
    {
     "data": {
      "text/plain": [
       "tensor(13, device='cuda:0')"
      ]
     },
     "execution_count": 113,
     "metadata": {},
     "output_type": "execute_result"
    }
   ],
   "source": [
    "loss.argmax()"
   ]
  },
  {
   "cell_type": "code",
   "execution_count": 114,
   "metadata": {},
   "outputs": [
    {
     "data": {
      "text/plain": [
       "tensor(0.0007, device='cuda:0', grad_fn=<MaxBackward1>)"
      ]
     },
     "execution_count": 114,
     "metadata": {},
     "output_type": "execute_result"
    }
   ],
   "source": [
    "loss.max()"
   ]
  },
  {
   "cell_type": "code",
   "execution_count": 115,
   "metadata": {},
   "outputs": [
    {
     "data": {
      "text/plain": [
       "tensor([-0.0848,  0.0335,  0.1220,  0.1923,  0.2466,  0.2841,  0.3081,  0.3233,\n",
       "         0.3330,  0.3408,  0.3490,  0.3583,  0.3697,  0.3833,  0.3990,  0.4161,\n",
       "         0.4338,  0.4506,  0.4645,  0.4732,  0.4723,  0.4539,  0.4088,  0.3226,\n",
       "         0.1750, -0.0539, -0.3670, -0.7204, -1.0218, -1.1878, -1.1943, -1.0818,\n",
       "        -0.9112, -0.7303, -0.5602, -0.4108, -0.2865, -0.1903, -0.1234, -0.0845,\n",
       "        -0.0742, -0.0940, -0.1375, -0.1913, -0.2390, -0.2671, -0.2665, -0.2324,\n",
       "        -0.1728, -0.0972, -0.0148,  0.0702,  0.1518,  0.2267,  0.2921,  0.3476,\n",
       "         0.3918,  0.4216,  0.4338,  0.4272,  0.3974,  0.3390,  0.2485,  0.1280,\n",
       "        -0.0101, -0.1457, -0.2510, -0.2984, -0.2812, -0.2145, -0.1197, -0.0134,\n",
       "         0.0911,  0.1839,  0.2603,  0.3202,  0.3635,  0.3876,  0.3919,  0.3782,\n",
       "         0.3468,  0.2998,  0.2421,  0.1843,  0.1402,  0.1192,  0.1266,  0.1628,\n",
       "         0.2218,  0.2909,  0.3615,  0.4289,  0.4894,  0.5405,  0.5806,  0.6102,\n",
       "         0.6302,  0.6389,  0.6360,  0.6223,  0.5978,  0.5621,  0.5168,  0.4660,\n",
       "         0.4182,  0.3802,  0.3580,  0.3592,  0.3831,  0.4219,  0.4684,  0.5165,\n",
       "         0.5615,  0.5996,  0.6292,  0.6502,  0.6642,  0.6698,  0.6673,  0.6588,\n",
       "         0.6450,  0.6269,  0.6070,  0.5887,  0.5770,  0.5738,  0.5799,  0.5969])"
      ]
     },
     "execution_count": 115,
     "metadata": {},
     "output_type": "execute_result"
    }
   ],
   "source": [
    "((np.exp(test_batch[0][13].cpu().detach())-np.exp(sigma_ps_hat[13].cpu().detach()))/np.exp(test_batch[0][13].cpu().detach()))"
   ]
  },
  {
   "cell_type": "code",
   "execution_count": 117,
   "metadata": {},
   "outputs": [
    {
     "name": "stderr",
     "output_type": "stream",
     "text": [
      "/mnt/sw/nix/store/pvz51gzx2lyqpabf08xhd1y2kvw5rfdy-python-3.9.16-view/lib/python3.9/site-packages/matplotlib/text.py:1279: FutureWarning: elementwise comparison failed; returning scalar instead, but in the future will perform elementwise comparison\n",
      "  if s != self._text:\n"
     ]
    },
    {
     "data": {
      "text/plain": [
       "Text(0.5, 1.0, '[ 0.9213173  -0.93900126]')"
      ]
     },
     "execution_count": 117,
     "metadata": {},
     "output_type": "execute_result"
    },
    {
     "data": {
      "image/png": "[encoded data removed]",
      "text/plain": [
       "<Figure size 640x480 with 1 Axes>"
      ]
     },
     "metadata": {},
     "output_type": "display_data"
    }
   ],
   "source": [
    "plt.plot(test_batch[0][thetas_in_support][13].cpu().detach())\n",
    "plt.plot(sigma_ps_hat[13].cpu().detach())\n",
    "plt.title(test_batch[1][thetas_in_support][13].cpu().detach().numpy())"
   ]
  },
  {
   "cell_type": "code",
   "execution_count": 118,
   "metadata": {},
   "outputs": [
    {
     "data": {
      "text/plain": [
       "[<matplotlib.lines.Line2D at 0x1553e9750700>]"
      ]
     },
     "execution_count": 118,
     "metadata": {},
     "output_type": "execute_result"
    },
    {
     "data": {
      "image/png": "[encoded data removed]",
      "text/plain": [
       "<Figure size 640x480 with 1 Axes>"
      ]
     },
     "metadata": {},
     "output_type": "display_data"
    }
   ],
   "source": [
    "plt.plot(((np.exp(test_batch[0][thetas_in_support][13].cpu().detach())-np.exp(sigma_ps_hat[13].cpu().detach()))/np.exp(test_batch[0][thetas_in_support][13].cpu().detach())))"
   ]
  },
  {
   "cell_type": "code",
   "execution_count": 29,
   "metadata": {},
   "outputs": [],
   "source": [
    "import time"
   ]
  },
  {
   "cell_type": "code",
   "execution_count": 30,
   "metadata": {},
   "outputs": [
    {
     "name": "stdout",
     "output_type": "stream",
     "text": [
      "Time per emulation:  0.00020122075080871582\n"
     ]
    }
   ],
   "source": [
    "for i in range(100):\n",
    "    sigma_ps_hat = emulator(input)\n",
    "\n",
    "begin = time.time()\n",
    "for i in range(1000):\n",
    "    sigma_ps_hat = emulator(input)\n",
    "end = time.time()\n",
    "\n",
    "print(\"Time per emulation: \", (end - begin) / 1000)\n"
   ]
  },
  {
   "cell_type": "code",
   "execution_count": 121,
   "metadata": {},
   "outputs": [],
   "source": [
    "CKPT_FOLDER = '/mnt/home/dheurtel/ceph/02_checkpoints'"
   ]
  },
  {
   "cell_type": "code",
   "execution_count": 125,
   "metadata": {},
   "outputs": [
    {
     "data": {
      "text/plain": [
       "['DiscreteSBM_SigmaVPSDE_MHD_BPROJ_N_4000_bottleneck_32',\n",
       " 'DiscreteSBM_SigmaVPSDE_MHD_BPROJ_N_4000_bottleneck_32_firstc_6',\n",
       " 'DiscreteSBM_VPSDE_MHD_BPROJ_N_1000_bottleneck_32',\n",
       " 'DiscreteSBM_VPSDE_MHD_BPROJ_N_4000_bottleneck_16',\n",
       " 'DiscreteSBM_SigmaVPSDE_MHD_BPROJ_N_1000_bottleneck_32_firstc_4',\n",
       " 'DiscreteSBM_SigmaVPSDE_MHD_BPROJ_N_1000_bottleneck_16_firstc_10',\n",
       " 'DiscreteSBM_SigmaVPSDE_MHD_BPROJ_N_4000_bottleneck_16_firstc_4',\n",
       " 'SIGMA_EMULATOR',\n",
       " 'DiscreteSBM_SigmaVPSDE_MHD_BPROJ_N_4000_bottleneck_16_firstc_10',\n",
       " 'DiscreteSBM_SigmaVPSDE_MHD_BPROJ_N_1000_bottleneck_8',\n",
       " 'DiscreteSBM_SigmaVPSDE_MHD_BPROJ_N_8000_bottleneck_16',\n",
       " 'DiscreteSBM_SigmaVPSDE_MHD_BPROJ_N_8000_bottleneck_32',\n",
       " 'DiscreteSBM_VPSDE_MHD_BPROJ_N_8000_bottleneck_32',\n",
       " 'DiscreteSBM_VPSDE_MHD_BPROJ_N_8000_bottleneck_16',\n",
       " 'DiscreteSBM_SigmaVPSDE_MHD_BPROJ_N_1000_bottleneck_16_firstc_4',\n",
       " 'DiscreteSBM_VPSDE_MHD_BPROJ_N_4000_bottleneck_8',\n",
       " 'DPPM_exp0',\n",
       " 'DiscreteSBM_VPSDE_MHD_BPROJ_N_1000_bottleneck_16',\n",
       " 'DiscreteSBM_SigmaVPSDE_MHD_BPROJ_N_1000_bottleneck_16_firstc_6',\n",
       " 'DiscreteSBM_SigmaVPSDE_MHD_BPROJ_N_8000_bottleneck_8',\n",
       " 'DiscreteSBM_SigmaVPSDE_MHD_BPROJ_N_1000_bottleneck_16',\n",
       " 'DiscreteSBM_SigmaVPSDE_MHD_BPROJ_N_1000_bottleneck_32_firstc_6',\n",
       " 'DiscreteSBM_VPSDE_MHD_BPROJ_N_8000_bottleneck_8',\n",
       " 'DiscreteSBM_SigmaVPSDE_MHD_BPROJ_N_1000_bottleneck_32_firstc_10',\n",
       " 'DiscreteSBM_VPSDE_MHD_BPROJ_N_4000_bottleneck_32',\n",
       " 'DiscreteSBM_SigmaVPSDE_MHD_BPROJ_N_4000_bottleneck_16_firstc_6',\n",
       " 'DiscreteSBM_SigmaVPSDE_MHD_BPROJ_N_4000_bottleneck_16',\n",
       " 'DiscreteSBM_SigmaVPSDE_MHD_BPROJ_N_4000_bottleneck_32_firstc_10',\n",
       " 'DiscreteSBM_SigmaVPSDE_MHD_BPROJ_N_4000_bottleneck_8',\n",
       " 'DiscreteSBM_SigmaVPSDE_MHD_BPROJ_N_1000_bottleneck_32',\n",
       " 'DiscreteSBM_SigmaVPSDE_MHD_BPROJ_N_4000_bottleneck_32_firstc_4',\n",
       " 'DiscreteSBM_VPSDE_MHD_BPROJ_N_1000_bottleneck_8']"
      ]
     },
     "execution_count": 125,
     "metadata": {},
     "output_type": "execute_result"
    }
   ],
   "source": [
    "os.listdir(CKPT_FOLDER)"
   ]
  },
  {
   "cell_type": "code",
   "execution_count": 124,
   "metadata": {},
   "outputs": [],
   "source": [
    "os.mkdir(os.path.join(CKPT_FOLDER, 'SIGMA_EMULATOR'))"
   ]
  },
  {
   "cell_type": "code",
   "execution_count": 126,
   "metadata": {},
   "outputs": [],
   "source": [
    "MODEL_ID = 'Emulator_H0_ombh2_1'"
   ]
  },
  {
   "cell_type": "code",
   "execution_count": 127,
   "metadata": {},
   "outputs": [],
   "source": [
    "ckpt = {'network': emulator.state_dict(), 'optimizer': optimizer.state_dict(), 'scheduler' : scheduler.state_dict()}"
   ]
  },
  {
   "cell_type": "code",
   "execution_count": 128,
   "metadata": {},
   "outputs": [],
   "source": [
    "torch.save(ckpt, os.path.join(CKPT_FOLDER, 'SIGMA_EMULATOR', MODEL_ID + '.pt'))"
   ]
  }
 ],
 "metadata": {
  "kernelspec": {
   "display_name": "genv_DL",
   "language": "python",
   "name": "python3"
  },
  "language_info": {
   "codemirror_mode": {
    "name": "ipython",
    "version": 3
   },
   "file_extension": ".py",
   "mimetype": "text/x-python",
   "name": "python",
   "nbconvert_exporter": "python",
   "pygments_lexer": "ipython3",
   "version": "3.9.16"
  },
  "orig_nbformat": 4
 },
 "nbformat": 4,
 "nbformat_minor": 2
}
