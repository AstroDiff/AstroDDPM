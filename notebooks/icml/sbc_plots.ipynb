{
 "cells": [
  {
   "cell_type": "code",
   "execution_count": 1,
   "metadata": {},
   "outputs": [],
   "source": [
    "import os\n",
    "import torch\n",
    "import numpy as np\n",
    "import matplotlib.pyplot as plt\n",
    "import arviz as az\n",
    "from scipy.stats import binom"
   ]
  },
  {
   "cell_type": "code",
   "execution_count": 4,
   "metadata": {},
   "outputs": [],
   "source": [
    "## Matplotlib parameters\n",
    "save_fig = True\n",
    "\n",
    "params = {'text.usetex': True,\n",
    "         'text.latex.preamble': r'\\usepackage{amsmath}',\n",
    "         \"font.family\": \"serif\", \"font.serif\": [\"Computer Modern Roman\"],\n",
    "         'font.size': 12,\n",
    "         'image.interpolation': 'none'}\n",
    "plt.rcParams.update(params)"
   ]
  },
  {
   "cell_type": "code",
   "execution_count": 2,
   "metadata": {},
   "outputs": [],
   "source": [
    "model_id ='ContinuousSBM_bottleneck_32_firstc_10_phi_beta_cosine_betamax_2.0_betamin_0.01'\n",
    "#'ContinuousSBM_FFResUNet_bottleneck_32_firstc_10_phi_beta_cosine_betamax_2.0_betamin_0.01'\n",
    "input_dir ='/mnt/home/dheurtel/ceph/04_inference/sbc/'+model_id+'/'"
   ]
  },
  {
   "cell_type": "code",
   "execution_count": 3,
   "metadata": {},
   "outputs": [
    {
     "name": "stdout",
     "output_type": "stream",
     "text": [
      "['sbc_sims_SigmaMN_0.pt', 'sbc_sims_SigmaMN_1.pt', 'sbc_sims_SigmaMN_2.pt']\n",
      "counts [0 1 2]\n"
     ]
    }
   ],
   "source": [
    "## Select high in f if you want only high noises, not high in f if you want only low noises and nothing if you want both\n",
    "sbc_files = [f for f in os.listdir(input_dir) if ('SigmaMN' in f and 'high' not in f)] \n",
    "sbc_files.sort()\n",
    "print(sbc_files)\n",
    "\n",
    "counts = np.unique(np.array([int(f.split(\"_\")[-1].split('.')[0]) for f in sbc_files]))\n",
    "print(\"counts\", counts)"
   ]
  },
  {
   "cell_type": "code",
   "execution_count": 5,
   "metadata": {},
   "outputs": [
    {
     "name": "stdout",
     "output_type": "stream",
     "text": [
      "sbc_sims_SigmaMN_0.pt\n",
      "sbc_sims_SigmaMN_1.pt\n",
      "sbc_sims_SigmaMN_2.pt\n",
      "torch.Size([1200, 2]) torch.Size([180, 1200, 2]) torch.Size([1200, 1]) torch.Size([180, 1200, 1])\n"
     ]
    }
   ],
   "source": [
    "max_num_samples = 180 ## Maximum number of samples to consider from SBC, adjust by increasing \n",
    "# so that all samples are counted (useful when analyzing sbc while it is running)\n",
    "\n",
    "# Load files\n",
    "phi_truth_all = None\n",
    "phi_samples_all = None\n",
    "sigma_truth_all = None\n",
    "sigma_samples_all = None\n",
    "for sbc_file in sbc_files:\n",
    "    print(sbc_file)\n",
    "    sbc_file = os.path.join(input_dir, sbc_file)\n",
    "    sbc_data = torch.load(sbc_file)\n",
    "    phi_truth = sbc_data[\"rphi_true\"].detach().cpu()\n",
    "    sigma_truth = sbc_data[\"sigma_true\"].detach().cpu()\n",
    "    phi_samples = sbc_data[\"tensor_rphi_list\"].detach().cpu()\n",
    "    sigma_samples = sbc_data[\"tensor_sigma_list\"].detach().cpu()\n",
    "    if phi_truth_all is None:\n",
    "        if phi_samples.shape[0] < max_num_samples:\n",
    "            continue\n",
    "        phi_truth_all = phi_truth\n",
    "        phi_samples_all = phi_samples[:max_num_samples, :, :]\n",
    "        sigma_truth_all = sigma_truth\n",
    "        sigma_samples_all = sigma_samples[:max_num_samples, :, :]\n",
    "    else:\n",
    "        if phi_samples.shape[0] < max_num_samples:\n",
    "            continue\n",
    "        phi_truth_all = torch.cat((phi_truth_all, phi_truth), dim=0)\n",
    "        phi_samples_all = torch.cat((phi_samples_all, phi_samples[:max_num_samples, :, :]), dim=1)\n",
    "        sigma_truth_all = torch.cat((sigma_truth_all, sigma_truth), dim=0)\n",
    "        sigma_samples_all = torch.cat((sigma_samples_all, sigma_samples[:max_num_samples, :, :]), dim=1)\n",
    "try:\n",
    "    print(phi_truth_all.shape, phi_samples_all[:max_num_samples, :, :].shape, sigma_truth_all.shape, sigma_samples_all[:max_num_samples, :, :].shape)\n",
    "except:\n",
    "    print(\"No samples\")"
   ]
  },
  {
   "cell_type": "code",
   "execution_count": 6,
   "metadata": {},
   "outputs": [],
   "source": [
    "nb_burning_samples = 50\n",
    "\n",
    "# Get rid of the burnin samples\n",
    "phi_samples_all = phi_samples_all[nb_burning_samples:, :, :]\n",
    "sigma_samples_all = sigma_samples_all[nb_burning_samples:, :, :]"
   ]
  },
  {
   "cell_type": "code",
   "execution_count": 7,
   "metadata": {},
   "outputs": [
    {
     "data": {
      "text/plain": [
       "torch.Size([130, 1200, 1])"
      ]
     },
     "execution_count": 7,
     "metadata": {},
     "output_type": "execute_result"
    }
   ],
   "source": [
    "sigma_samples_all.shape"
   ]
  },
  {
   "cell_type": "code",
   "execution_count": 10,
   "metadata": {},
   "outputs": [
    {
     "data": {
      "image/png": "[encoded data removed]",
      "text/plain": [
       "<Figure size 1000x500 with 3 Axes>"
      ]
     },
     "metadata": {},
     "output_type": "display_data"
    }
   ],
   "source": [
    "# Show histogram of stds\n",
    "eps = 1e-9\n",
    "fig, axs = plt.subplots(1, 3, figsize=(10, 5))\n",
    "axs[0].hist(torch.log(phi_samples_all[..., 0].std(dim=0) + eps), bins=100)\n",
    "axs[0].set_xlabel(\"log std of $\\phi_0$\")\n",
    "axs[1].hist(torch.log(phi_samples_all[..., 1].std(dim=0) + eps), bins=100)\n",
    "axs[1].set_xlabel(\"log std of $\\phi_1$\")\n",
    "axs[2].hist(torch.log(sigma_samples_all[...,0].std(dim=0) + eps), bins=100)\n",
    "axs[2].set_xlabel(\"log std of $\\sigma$\")\n",
    "plt.show()"
   ]
  },
  {
   "cell_type": "code",
   "execution_count": 11,
   "metadata": {},
   "outputs": [
    {
     "name": "stdout",
     "output_type": "stream",
     "text": [
      "Number of chains that have not converged: 11\n"
     ]
    }
   ],
   "source": [
    "# Remove chains that have not converged (threshold on std of phi)\n",
    "threshold = -6\n",
    "converged_indices = torch.where(torch.logical_and(torch.log(phi_samples_all[..., 0].std(dim=0) + eps) >= threshold,\n",
    "                                                torch.log(phi_samples_all[..., 1].std(dim=0) + eps) >= threshold))[0]\n",
    "not_converged_indices = torch.where(torch.logical_or(torch.log(phi_samples_all[..., 0].std(dim=0) + eps) < threshold,\n",
    "                                                    torch.log(phi_samples_all[..., 1].std(dim=0) + eps) < threshold))[0]\n",
    "print(\"Number of chains that have not converged:\", not_converged_indices.shape[0])"
   ]
  },
  {
   "cell_type": "code",
   "execution_count": 12,
   "metadata": {},
   "outputs": [
    {
     "name": "stderr",
     "output_type": "stream",
     "text": [
      "/mnt/sw/nix/store/gpkc8q6zjnp3n3h3w9hbmbj6gjbxs85w-python-3.10.10-view/lib/python3.10/site-packages/arviz/utils.py:184: NumbaDeprecationWarning: The 'nopython' keyword argument was not supplied to the 'numba.jit' decorator. The implicit default value for this argument is currently False, but it will be changed to True in Numba 0.59.0. See https://numba.readthedocs.io/en/stable/reference/deprecation.html#deprecation-of-object-mode-fall-back-behaviour-when-using-jit for details.\n",
      "  numba_fn = numba.jit(**self.kwargs)(self.function)\n"
     ]
    }
   ],
   "source": [
    "# Compute rank statistics for phi\n",
    "phi_truth_all_converged = phi_truth_all[converged_indices, :]\n",
    "phi_samples_all_converged = phi_samples_all[:, converged_indices, :]\n",
    "ranks = torch.zeros(phi_truth_all_converged.shape[0], phi_truth_all_converged.shape[1])\n",
    "autocorrelation_length = torch.zeros(phi_truth_all_converged.shape[0], phi_truth_all_converged.shape[1])\n",
    "for i in range(phi_truth_all_converged.shape[0]):\n",
    "    az_infdata = az.convert_to_inference_data(phi_samples_all_converged[:, i][None, :].numpy())\n",
    "    for j in range(phi_truth_all_converged.shape[1]):\n",
    "        autocorrelation_length[i, j] = len(phi_samples_all_converged[:, i, j]) / az.ess(az_infdata)['x'].values[j]\n",
    "        ranks[i, j] = torch.mean((phi_samples_all_converged[::max(int(autocorrelation_length[i, j]), 1), i, j] < phi_truth_all_converged[i, j]).float())"
   ]
  },
  {
   "cell_type": "code",
   "execution_count": 13,
   "metadata": {},
   "outputs": [],
   "source": [
    "# Compute rank statistics for sigma\n",
    "sigma_truth_all_converged = sigma_truth_all[converged_indices, :]\n",
    "sigma_samples_all_converged = sigma_samples_all[:, converged_indices, :]\n",
    "ranks_sigma = torch.zeros(sigma_truth_all_converged.shape[0])\n",
    "autocorrelation_length_sigma = torch.zeros(sigma_truth_all_converged.shape[0])\n",
    "for i in range(sigma_truth_all_converged.shape[0]):\n",
    "    az_infdata = az.convert_to_inference_data(sigma_samples_all_converged[:, i][None, :].numpy())\n",
    "    autocorrelation_length_sigma[i] = len(sigma_samples_all_converged[:, i]) / az.ess(az_infdata)['x'].values[0]\n",
    "    ranks_sigma[i] = torch.mean((sigma_samples_all_converged[::max(int(autocorrelation_length_sigma[i]), 1), i] < sigma_truth_all_converged[i]).float())"
   ]
  },
  {
   "cell_type": "code",
   "execution_count": 17,
   "metadata": {},
   "outputs": [
    {
     "name": "stderr",
     "output_type": "stream",
     "text": [
      "No artists with labels found to put in legend.  Note that artists whose label start with an underscore are ignored when legend() is called with no argument.\n"
     ]
    },
    {
     "data": {
      "image/png": "[encoded data removed]",
      "text/plain": [
       "<Figure size 1000x350 with 3 Axes>"
      ]
     },
     "metadata": {},
     "output_type": "display_data"
    }
   ],
   "source": [
    "# Plot ranks statistics\n",
    "fig, axs = plt.subplots(1, 3, figsize=(10, 3.5), sharex=True, sharey=True)\n",
    "nbins = 15\n",
    "axs[0].hist(ranks[:, 0], bins=nbins, density=True, histtype='step')\n",
    "axs[1].hist(ranks[:, 1], bins=nbins, density=True, histtype='step')\n",
    "axs[2].hist(ranks_sigma, bins=nbins, density=True, histtype='step')\n",
    "N = ranks.shape[0]\n",
    "q0 = binom.ppf(0.025, N, 1.0/nbins) * nbins/N\n",
    "q1 = binom.ppf(0.975, N, 1.0/nbins) * nbins/N\n",
    "axs[0].fill_between([0, 1], q0, q1, color='black', alpha=0.1) # 95% confidence interval (following Talts et al. 2018)\n",
    "axs[1].fill_between([0, 1], q0, q1, color='black', alpha=0.1) # 95% confidence interval (following Talts et al. 2018)\n",
    "axs[2].fill_between([0, 1], q0, q1, color='black', alpha=0.1) # 95% confidence interval (following Talts et al. 2018)\n",
    "axs[0].axhline(1.0, color='black', linestyle='--')\n",
    "axs[0].set_xlabel(\"Rank for $H_0$\")\n",
    "axs[1].axhline(1.0, color='black', linestyle='--')\n",
    "axs[1].set_xlabel(\"Rank for $\\omega_b$\")\n",
    "axs[2].axhline(1.0, color='black', linestyle='--')\n",
    "axs[2].set_xlabel(\"Rank for $\\sigma$\")\n",
    "axs[0].legend()\n",
    "fig.subplots_adjust(wspace=0.05)\n",
    "if save_fig:\n",
    "    plt.savefig(\"sbc_ranks.pdf\", bbox_inches='tight')\n",
    "plt.show()"
   ]
  }
 ],
 "metadata": {
  "kernelspec": {
   "display_name": "diffusion",
   "language": "python",
   "name": "python3"
  },
  "language_info": {
   "codemirror_mode": {
    "name": "ipython",
    "version": 3
   },
   "file_extension": ".py",
   "mimetype": "text/x-python",
   "name": "python",
   "nbconvert_exporter": "python",
   "pygments_lexer": "ipython3",
   "version": "3.10.10"
  },
  "orig_nbformat": 4
 },
 "nbformat": 4,
 "nbformat_minor": 2
}
