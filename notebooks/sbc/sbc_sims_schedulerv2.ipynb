{
 "cells": [
  {
   "cell_type": "code",
   "execution_count": 24,
   "metadata": {},
   "outputs": [],
   "source": [
    "import os, sys"
   ]
  },
  {
   "cell_type": "code",
   "execution_count": 25,
   "metadata": {},
   "outputs": [],
   "source": [
    "model_id = 'ContinuousSBM_FFResUNet_bottleneck_32_firstc_10_phi_beta_cosine_betamax_2.0_betamin_0.01' #'ContinuousSBM_bottleneck_32_firstc_10_phi_beta_cosine_betamax_2.0_betamin_0.01' #'ContinuousSBM_ContinuousVPSDE_I_BPROJ_bottleneck_32_firstc_10_phi_beta_cosine_betamax_0.5_betamin_0.001'\n",
    "output_dir ='/mnt/home/dheurtel/ceph/04_inference/sbc/'+model_id\n",
    "num_samples_per_chain = 600\n",
    "num_sims_per_gpu = 256\n",
    "num_chains_per_sim = 2\n",
    "nb_gpus = 4\n",
    "noise_level_min = 0.05\n",
    "noise_level_max = 0.5"
   ]
  },
  {
   "cell_type": "code",
   "execution_count": 26,
   "metadata": {},
   "outputs": [],
   "source": [
    "script_template = \\\n",
    "\"\"\"#!/bin/bash\n",
    "#SBATCH -J sbcv2_SigmaMN_{{count}}\n",
    "#SBATCH --gpus=1\n",
    "#SBATCH --cpus-per-gpu=16\n",
    "#SBATCH --time=48:00:00\n",
    "#SBATCH --partition=gpu\n",
    "#SBATCH --constraint='a100-80gb|h100'\n",
    "#SBATCH -o jobs/sbcv2_SigmaMN_{{count}}.log\n",
    "\n",
    "source ~/.bashrc\n",
    "source /mnt/home/dheurtel/venv/genv_DL/bin/activate\n",
    "python sbc_with_MN_and_timev2.py --model_id {{model_id}} --num_target={{num_sims_per_gpu}} --num_chain_per_target={{num_chains_per_sim}} --num_sample={{num_samples_per_chain}} --save_path={{save_path}} --noise_level_min={{noise_level_min}} --noise_level_max={{noise_level_max}} \n",
    "\"\"\""
   ]
  },
  {
   "cell_type": "code",
   "execution_count": 27,
   "metadata": {},
   "outputs": [],
   "source": [
    "keys_substitutes = {\"{{model_id}}\": model_id,\n",
    "                    \"{{num_sims_per_gpu}}\": num_sims_per_gpu,\n",
    "                    \"{{num_samples_per_chain}}\": num_samples_per_chain,\n",
    "                    \"{{num_chains_per_sim}}\": num_chains_per_sim,\n",
    "                    \"{{save_path}}\": os.path.join(output_dir, \"tmp.pt\"),\n",
    "                    \"{{count}}\": 0,\n",
    "                    \"{{noise_level_min}}\": noise_level_min,\n",
    "                    \"{{noise_level_max}}\": noise_level_max}"
   ]
  },
  {
   "cell_type": "code",
   "execution_count": 28,
   "metadata": {},
   "outputs": [
    {
     "name": "stdout",
     "output_type": "stream",
     "text": [
      "Submitted batch job 3162282\n",
      "Submitted batch job 3162283\n",
      "Submitted batch job 3162284\n",
      "Submitted batch job 3162285\n"
     ]
    }
   ],
   "source": [
    "for gpu_id in range(nb_gpus):\n",
    "    keys_substitutes[\"{{count}}\"] = gpu_id\n",
    "    keys_substitutes[\"{{save_path}}\"] = os.path.join(output_dir, f\"sbcv2_sims_SigmaMN_{gpu_id}.pt\")\n",
    "    script = script_template\n",
    "    for key, value in keys_substitutes.items():\n",
    "        script = script.replace(key, str(value))\n",
    "    with open(f'./jobs/sbcv2_sims_SigmaMN_FF_{gpu_id}.sh', 'w') as f:\n",
    "        f.write(script)\n",
    "    os.system(f'sbatch ./jobs/sbcv2_sims_SigmaMN_FF_{gpu_id}.sh')"
   ]
  },
  {
   "cell_type": "code",
   "execution_count": null,
   "metadata": {},
   "outputs": [],
   "source": []
  }
 ],
 "metadata": {
  "kernelspec": {
   "display_name": "diffusion",
   "language": "python",
   "name": "python3"
  },
  "language_info": {
   "codemirror_mode": {
    "name": "ipython",
    "version": 3
   },
   "file_extension": ".py",
   "mimetype": "text/x-python",
   "name": "python",
   "nbconvert_exporter": "python",
   "pygments_lexer": "ipython3",
   "version": "3.9.16"
  },
  "orig_nbformat": 4
 },
 "nbformat": 4,
 "nbformat_minor": 2
}
