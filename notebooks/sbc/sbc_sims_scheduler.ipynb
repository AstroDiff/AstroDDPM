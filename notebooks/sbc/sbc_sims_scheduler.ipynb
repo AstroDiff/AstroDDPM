{
 "cells": [
  {
   "cell_type": "code",
   "execution_count": 41,
   "metadata": {},
   "outputs": [],
   "source": [
    "import os, sys"
   ]
  },
  {
   "cell_type": "code",
   "execution_count": 42,
   "metadata": {},
   "outputs": [],
   "source": [
    "model_id = 'ContinuousSBM_bottleneck_32_firstc_10_phi_beta_cosine_betamax_2.0_betamin_0.01' #'ContinuousSBM_FFResUNet_bottleneck_32_firstc_10_phi_beta_cosine_betamax_2.0_betamin_0.01' #'ContinuousSBM_ContinuousVPSDE_I_BPROJ_bottleneck_32_firstc_10_phi_beta_cosine_betamax_0.5_betamin_0.001'\n",
    "output_dir ='/mnt/home/dheurtel/ceph/04_inference/sbc/'+model_id\n",
    "num_samples_per_chain = 600\n",
    "num_sims_per_gpu = 400\n",
    "nb_gpus = 3\n",
    "noise_level_min = 0.5\n",
    "noise_level_max = 1.2"
   ]
  },
  {
   "cell_type": "code",
   "execution_count": 43,
   "metadata": {},
   "outputs": [],
   "source": [
    "script_template = \\\n",
    "\"\"\"#!/bin/bash\n",
    "#SBATCH -J sbc_SigmaMN_high_{{count}}\n",
    "#SBATCH --gpus=1\n",
    "#SBATCH --cpus-per-gpu=16\n",
    "#SBATCH --time=48:00:00\n",
    "#SBATCH --partition=gpu\n",
    "#SBATCH --constraint='a100-80gb|h100'\n",
    "#SBATCH -o jobs/sbc_SigmaMN_high_{{count}}.log\n",
    "\n",
    "source ~/.bashrc\n",
    "source /mnt/home/dheurtel/venv/genv_DL/bin/activate\n",
    "python sbc_with_MN_and_time.py --model_id {{model_id}} --num_chain={{num_sims_per_gpu}} --num_sample={{num_samples_per_chain}} --save_path={{save_path}} --noise_level_min={{noise_level_min}} --noise_level_max={{noise_level_max}} \n",
    "\"\"\""
   ]
  },
  {
   "cell_type": "code",
   "execution_count": 44,
   "metadata": {},
   "outputs": [],
   "source": [
    "keys_substitutes = {\"{{model_id}}\": model_id,\n",
    "                    \"{{num_sims_per_gpu}}\": num_sims_per_gpu,\n",
    "                    \"{{num_samples_per_chain}}\": num_samples_per_chain,\n",
    "                    \"{{save_path}}\": os.path.join(output_dir, \"tmp.pt\"),\n",
    "                    \"{{count}}\": 0,\n",
    "                    \"{{noise_level_min}}\": noise_level_min,\n",
    "                    \"{{noise_level_max}}\": noise_level_max}"
   ]
  },
  {
   "cell_type": "code",
   "execution_count": 45,
   "metadata": {},
   "outputs": [
    {
     "name": "stdout",
     "output_type": "stream",
     "text": [
      "Submitted batch job 3139280\n",
      "Submitted batch job 3139281\n",
      "Submitted batch job 3139282\n"
     ]
    }
   ],
   "source": [
    "for gpu_id in range(nb_gpus):\n",
    "    keys_substitutes[\"{{count}}\"] = gpu_id\n",
    "    keys_substitutes[\"{{save_path}}\"] = os.path.join(output_dir, f\"sbc_sims_SigmaMN_high_{gpu_id}.pt\")\n",
    "    script = script_template\n",
    "    for key, value in keys_substitutes.items():\n",
    "        script = script.replace(key, str(value))\n",
    "    with open(f'./jobs/sbc_sims_SigmaMN_nonFF_high_{gpu_id}.sh', 'w') as f:\n",
    "        f.write(script)\n",
    "    os.system(f'sbatch ./jobs/sbc_sims_SigmaMN_nonFF_high_{gpu_id}.sh')"
   ]
  },
  {
   "cell_type": "code",
   "execution_count": null,
   "metadata": {},
   "outputs": [],
   "source": []
  }
 ],
 "metadata": {
  "kernelspec": {
   "display_name": "diffusion",
   "language": "python",
   "name": "python3"
  },
  "language_info": {
   "codemirror_mode": {
    "name": "ipython",
    "version": 3
   },
   "file_extension": ".py",
   "mimetype": "text/x-python",
   "name": "python",
   "nbconvert_exporter": "python",
   "pygments_lexer": "ipython3",
   "version": "3.9.16"
  },
  "orig_nbformat": 4
 },
 "nbformat": 4,
 "nbformat_minor": 2
}
