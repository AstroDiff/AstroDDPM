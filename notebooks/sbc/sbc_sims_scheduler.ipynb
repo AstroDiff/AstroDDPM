{
 "cells": [
  {
   "cell_type": "code",
   "execution_count": 13,
   "metadata": {},
   "outputs": [],
   "source": [
    "import os, sys"
   ]
  },
  {
   "cell_type": "code",
   "execution_count": 14,
   "metadata": {},
   "outputs": [],
   "source": [
    "model_id = \"ContinuousSBM_ContinuousVPSDE_I_BPROJ_bottleneck_16_firstc_6_phi_beta_cosine\"\n",
    "output_dir = \"/mnt/home/bregaldosaintblancard/ceph/diffusion4dust/sbc/\"\n",
    "num_samples_per_chain = 1000\n",
    "num_sims_per_gpu = 256\n",
    "nb_gpus = 4"
   ]
  },
  {
   "cell_type": "code",
   "execution_count": 15,
   "metadata": {},
   "outputs": [],
   "source": [
    "script_template = \\\n",
    "\"\"\"#!/bin/bash\n",
    "#SBATCH -J sbc_{{noise_level}}_{{count}}\n",
    "#SBATCH --gpus=1\n",
    "#SBATCH --cpus-per-gpu=16\n",
    "#SBATCH --time=12:00:00\n",
    "#SBATCH --partition=gpu\n",
    "#SBATCH --constraint='a100'\n",
    "#SBATCH -o jobs/sbc_{{noise_level}}_{{count}}.log\n",
    "\n",
    "source ~/.bashrc\n",
    "pysource diffusion\n",
    "python sbc.py --model_id {{model_id}} --num_chain={{num_sims_per_gpu}} --num_sample={{num_samples_per_chain}} --noise_level={{noise_level}} --save_path={{save_path}}\n",
    "\"\"\""
   ]
  },
  {
   "cell_type": "code",
   "execution_count": 16,
   "metadata": {},
   "outputs": [],
   "source": [
    "keys_substitutes = {\"{{model_id}}\": model_id,\n",
    "                    \"{{num_sims_per_gpu}}\": num_sims_per_gpu,\n",
    "                    \"{{num_samples_per_chain}}\": num_samples_per_chain,\n",
    "                    \"{{save_path}}\": os.path.join(output_dir, \"tmp.pt\"),\n",
    "                    \"{{noise_level}}\": 0.1,\n",
    "                    \"{{count}}\": 0}"
   ]
  },
  {
   "cell_type": "code",
   "execution_count": 17,
   "metadata": {},
   "outputs": [
    {
     "name": "stdout",
     "output_type": "stream",
     "text": [
      "Submitted batch job 2910111\n",
      "Submitted batch job 2910112\n",
      "Submitted batch job 2910113\n",
      "Submitted batch job 2910114\n",
      "Submitted batch job 2910115\n",
      "Submitted batch job 2910116\n",
      "Submitted batch job 2910117\n",
      "Submitted batch job 2910118\n",
      "Submitted batch job 2910119\n",
      "Submitted batch job 2910120\n",
      "Submitted batch job 2910121\n",
      "Submitted batch job 2910122\n",
      "Submitted batch job 2910123\n",
      "Submitted batch job 2910124\n",
      "Submitted batch job 2910125\n",
      "Submitted batch job 2910126\n",
      "Submitted batch job 2910127\n",
      "Submitted batch job 2910128\n",
      "Submitted batch job 2910129\n",
      "Submitted batch job 2910130\n"
     ]
    }
   ],
   "source": [
    "noise_levels = [0.1, 0.2, 0.3, 0.4, 0.5]\n",
    "\n",
    "for noise_level in noise_levels:\n",
    "    for gpu_id in range(nb_gpus):\n",
    "        keys_substitutes[\"{{noise_level}}\"] = noise_level\n",
    "        keys_substitutes[\"{{count}}\"] = gpu_id\n",
    "        keys_substitutes[\"{{save_path}}\"] = os.path.join(output_dir, f\"sbc_sims_{noise_level}_{gpu_id}.pt\")\n",
    "        script = script_template\n",
    "        for key, value in keys_substitutes.items():\n",
    "            script = script.replace(key, str(value))\n",
    "        with open(f'jobs/sbc_{noise_level}_{gpu_id}.sh', 'w') as f:\n",
    "            f.write(script)\n",
    "        os.system(f'sbatch jobs/sbc_{noise_level}_{gpu_id}.sh')"
   ]
  }
 ],
 "metadata": {
  "kernelspec": {
   "display_name": "diffusion",
   "language": "python",
   "name": "python3"
  },
  "language_info": {
   "codemirror_mode": {
    "name": "ipython",
    "version": 3
   },
   "file_extension": ".py",
   "mimetype": "text/x-python",
   "name": "python",
   "nbconvert_exporter": "python",
   "pygments_lexer": "ipython3",
   "version": "3.10.10"
  },
  "orig_nbformat": 4
 },
 "nbformat": 4,
 "nbformat_minor": 2
}
