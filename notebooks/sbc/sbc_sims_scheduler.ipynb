{
 "cells": [
  {
   "cell_type": "code",
   "execution_count": 1,
   "metadata": {},
   "outputs": [],
   "source": [
    "import os, sys"
   ]
  },
  {
   "cell_type": "code",
   "execution_count": 2,
   "metadata": {},
   "outputs": [],
   "source": [
    "model_id = 'ContinuousSBM_ContinuousVPSDE_I_BPROJ_bottleneck_32_firstc_10_phi_beta_cosine_betamax_0.5_betamin_0.001'\n",
    "output_dir ='/mnt/home/dheurtel/ceph/04_inference/sbc/'+model_id\n",
    "num_samples_per_chain = 500\n",
    "num_sims_per_gpu = 256\n",
    "nb_gpus = 4"
   ]
  },
  {
   "cell_type": "code",
   "execution_count": 3,
   "metadata": {},
   "outputs": [],
   "source": [
    "script_template = \\\n",
    "\"\"\"#!/bin/bash\n",
    "#SBATCH -J sbc_{{noise_level}}_{{count}}\n",
    "#SBATCH --gpus=1\n",
    "#SBATCH --cpus-per-gpu=16\n",
    "#SBATCH --time=48:00:00\n",
    "#SBATCH --partition=gpu\n",
    "#SBATCH --constraint='a100-80gb|h100'\n",
    "#SBATCH -o jobs/sbc_MN_{{noise_level}}_{{count}}.log\n",
    "\n",
    "source ~/.bashrc\n",
    "source /mnt/home/dheurtel/venv/genv_DL/bin/activate\n",
    "python sbc_with_MN.py --model_id {{model_id}} --num_chain={{num_sims_per_gpu}} --num_sample={{num_samples_per_chain}} --noise_level={{noise_level}} --save_path={{save_path}}\n",
    "\"\"\""
   ]
  },
  {
   "cell_type": "code",
   "execution_count": 4,
   "metadata": {},
   "outputs": [],
   "source": [
    "keys_substitutes = {\"{{model_id}}\": model_id,\n",
    "                    \"{{num_sims_per_gpu}}\": num_sims_per_gpu,\n",
    "                    \"{{num_samples_per_chain}}\": num_samples_per_chain,\n",
    "                    \"{{save_path}}\": os.path.join(output_dir, \"tmp.pt\"),\n",
    "                    \"{{noise_level}}\": 0.1,\n",
    "                    \"{{count}}\": 0}"
   ]
  },
  {
   "cell_type": "code",
   "execution_count": 5,
   "metadata": {},
   "outputs": [
    {
     "name": "stdout",
     "output_type": "stream",
     "text": [
      "Submitted batch job 3114296\n",
      "Submitted batch job 3114297\n",
      "Submitted batch job 3114298\n",
      "Submitted batch job 3114299\n",
      "Submitted batch job 3114300\n",
      "Submitted batch job 3114301\n"
     ]
    },
    {
     "name": "stdout",
     "output_type": "stream",
     "text": [
      "Submitted batch job 3114302\n",
      "Submitted batch job 3114303\n",
      "Submitted batch job 3114304\n",
      "Submitted batch job 3114305\n",
      "Submitted batch job 3114306\n",
      "Submitted batch job 3114307\n",
      "Submitted batch job 3114308\n",
      "Submitted batch job 3114309\n",
      "Submitted batch job 3114310\n",
      "Submitted batch job 3114311\n"
     ]
    }
   ],
   "source": [
    "noise_levels = [0.1, 0.2, 0.3, 0.5]\n",
    "\n",
    "for noise_level in noise_levels:\n",
    "    for gpu_id in range(nb_gpus):\n",
    "        keys_substitutes[\"{{noise_level}}\"] = noise_level\n",
    "        keys_substitutes[\"{{count}}\"] = gpu_id\n",
    "        keys_substitutes[\"{{save_path}}\"] = os.path.join(output_dir, f\"sbc_MN_sims_{noise_level}_{gpu_id}.pt\")\n",
    "        script = script_template\n",
    "        for key, value in keys_substitutes.items():\n",
    "            script = script.replace(key, str(value))\n",
    "        with open(f'./jobs/sbc_MN_{noise_level}_{gpu_id}.sh', 'w') as f:\n",
    "            f.write(script)\n",
    "        os.system(f'sbatch ./jobs/sbc_MN_{noise_level}_{gpu_id}.sh')"
   ]
  },
  {
   "cell_type": "code",
   "execution_count": null,
   "metadata": {},
   "outputs": [],
   "source": []
  }
 ],
 "metadata": {
  "kernelspec": {
   "display_name": "diffusion",
   "language": "python",
   "name": "python3"
  },
  "language_info": {
   "codemirror_mode": {
    "name": "ipython",
    "version": 3
   },
   "file_extension": ".py",
   "mimetype": "text/x-python",
   "name": "python",
   "nbconvert_exporter": "python",
   "pygments_lexer": "ipython3",
   "version": "3.9.16"
  },
  "orig_nbformat": 4
 },
 "nbformat": 4,
 "nbformat_minor": 2
}
